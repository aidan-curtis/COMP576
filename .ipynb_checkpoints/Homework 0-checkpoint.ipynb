{
 "cells": [
  {
   "cell_type": "markdown",
   "metadata": {},
   "source": [
    "# Task 1\n",
    "\n",
    ">> conda list\n",
    "\n",
    "     active environment : None\n",
    "       user config file : /Users/aidancurtis/.condarc\n",
    " populated config files : /Users/aidancurtis/.condarc\n",
    "          conda version : 4.4.10\n",
    "    conda-build version : 3.4.1\n",
    "         python version : 3.6.4.final.0\n",
    "       base environment : /Users/aidancurtis/anaconda3  (writable)\n",
    "           channel URLs : https://repo.continuum.io/pkgs/main/osx-64\n",
    "                          https://repo.continuum.io/pkgs/main/noarch\n",
    "                          https://repo.continuum.io/pkgs/free/osx-64\n",
    "                          https://repo.continuum.io/pkgs/free/noarch\n",
    "                          https://repo.continuum.io/pkgs/r/osx-64\n",
    "                          https://repo.continuum.io/pkgs/r/noarch\n",
    "                          https://repo.continuum.io/pkgs/pro/osx-64\n",
    "                          https://repo.continuum.io/pkgs/pro/noarch\n",
    "          package cache : /Users/aidancurtis/anaconda3/pkgs\n",
    "                          /Users/aidancurtis/.conda/pkgs\n",
    "       envs directories : /Users/aidancurtis/anaconda3/envs\n",
    "                          /Users/aidancurtis/.conda/envs\n",
    "               platform : osx-64\n",
    "             user-agent : conda/4.4.10 requests/2.18.4 CPython/3.6.4 Darwin/17.7.0 OSX/10.13.6\n",
    "                UID:GID : 501:20\n",
    "             netrc file : /Users/aidancurtis/.netrc\n",
    "           offline mode : False"
   ]
  },
  {
   "cell_type": "markdown",
   "metadata": {},
   "source": [
    "# Task 2"
   ]
  },
  {
   "cell_type": "code",
   "execution_count": 359,
   "metadata": {},
   "outputs": [],
   "source": [
    "import numpy as np\n",
    "import scipy.linalg\n",
    "import scipy"
   ]
  },
  {
   "cell_type": "code",
   "execution_count": 324,
   "metadata": {},
   "outputs": [
    {
     "name": "stdout",
     "output_type": "stream",
     "text": [
      "[[1. 2. 3.]\n",
      " [4. 5. 6.]]\n"
     ]
    }
   ],
   "source": [
    "a = np.array([[1.,2.,3.], [4.,5.,6.]])\n",
    "print(a)"
   ]
  },
  {
   "cell_type": "code",
   "execution_count": 325,
   "metadata": {},
   "outputs": [
    {
     "name": "stdout",
     "output_type": "stream",
     "text": [
      "2\n"
     ]
    }
   ],
   "source": [
    "print(np.ndim(a))"
   ]
  },
  {
   "cell_type": "code",
   "execution_count": 326,
   "metadata": {},
   "outputs": [
    {
     "name": "stdout",
     "output_type": "stream",
     "text": [
      "6\n"
     ]
    }
   ],
   "source": [
    "print(np.size(a))"
   ]
  },
  {
   "cell_type": "code",
   "execution_count": 327,
   "metadata": {},
   "outputs": [
    {
     "name": "stdout",
     "output_type": "stream",
     "text": [
      "(2, 3)\n"
     ]
    }
   ],
   "source": [
    "print(np.shape(a))"
   ]
  },
  {
   "cell_type": "code",
   "execution_count": 175,
   "metadata": {},
   "outputs": [
    {
     "name": "stdout",
     "output_type": "stream",
     "text": [
      "3\n"
     ]
    }
   ],
   "source": [
    "print(np.size(a,1))"
   ]
  },
  {
   "cell_type": "code",
   "execution_count": 176,
   "metadata": {},
   "outputs": [
    {
     "name": "stdout",
     "output_type": "stream",
     "text": [
      "[[ 1  2  3  4]\n",
      " [ 5  6  7  8]\n",
      " [ 9 10 11 12]\n",
      " [13 14 14 15]]\n"
     ]
    }
   ],
   "source": [
    "ai = np.array([[1,2],[5,6]])\n",
    "bi = np.array([[3,4],[7,8]])\n",
    "ci = np.array([[9,10], [13,14]])\n",
    "di = np.array([[11,12], [14,15]])\n",
    "print(np.block([[ai,bi], [ci,di]]))"
   ]
  },
  {
   "cell_type": "code",
   "execution_count": 177,
   "metadata": {},
   "outputs": [
    {
     "name": "stdout",
     "output_type": "stream",
     "text": [
      "[4. 5. 6.]\n"
     ]
    }
   ],
   "source": [
    "print(a[-1])"
   ]
  },
  {
   "cell_type": "code",
   "execution_count": 178,
   "metadata": {},
   "outputs": [
    {
     "name": "stdout",
     "output_type": "stream",
     "text": [
      "[[71 59 74  0 38  0 73 60  1 25]\n",
      " [90 43 33 92 82 88 46 73 26 24]\n",
      " [51 98 55  9 61 22 31 41 98 72]\n",
      " [16 30 84 88 60 14 85 30  8 42]\n",
      " [94 17 40 96 11 68 82 16 36 14]\n",
      " [66 21 26 46 75 79 92 63  9  0]\n",
      " [97 25 97 10 26 61 90 31 66 48]\n",
      " [92 65 79 41 25 85 96 80 37 80]\n",
      " [12 85 26 84 90 68 72 96 99 79]\n",
      " [34 17 96 66 71 16 66 79 60 10]]\n"
     ]
    }
   ],
   "source": [
    "b = (np.random.rand(10, 10)*100).astype(int)\n",
    "print(b)"
   ]
  },
  {
   "cell_type": "code",
   "execution_count": 179,
   "metadata": {},
   "outputs": [
    {
     "name": "stdout",
     "output_type": "stream",
     "text": [
      "[90 43 33 92 82 88 46 73 26 24]\n"
     ]
    }
   ],
   "source": [
    "print(b[1, :])"
   ]
  },
  {
   "cell_type": "code",
   "execution_count": 180,
   "metadata": {},
   "outputs": [
    {
     "name": "stdout",
     "output_type": "stream",
     "text": [
      "[[66 21 26 46 75 79 92 63  9  0]\n",
      " [97 25 97 10 26 61 90 31 66 48]\n",
      " [92 65 79 41 25 85 96 80 37 80]\n",
      " [12 85 26 84 90 68 72 96 99 79]\n",
      " [34 17 96 66 71 16 66 79 60 10]]\n"
     ]
    }
   ],
   "source": [
    "print(b[-5:])"
   ]
  },
  {
   "cell_type": "code",
   "execution_count": 181,
   "metadata": {},
   "outputs": [
    {
     "name": "stdout",
     "output_type": "stream",
     "text": [
      "[[38  0 73 60  1]\n",
      " [82 88 46 73 26]\n",
      " [61 22 31 41 98]]\n"
     ]
    }
   ],
   "source": [
    "print(b[0:3][:,4:9])"
   ]
  },
  {
   "cell_type": "code",
   "execution_count": 182,
   "metadata": {},
   "outputs": [
    {
     "name": "stdout",
     "output_type": "stream",
     "text": [
      "[[90 33]\n",
      " [16 84]\n",
      " [94 40]]\n"
     ]
    }
   ],
   "source": [
    "print(b[np.ix_([1,3,4],[0,2])])"
   ]
  },
  {
   "cell_type": "code",
   "execution_count": 183,
   "metadata": {},
   "outputs": [
    {
     "name": "stdout",
     "output_type": "stream",
     "text": [
      "[[51 98 55  9 61 22 31 41 98 72]\n",
      " [94 17 40 96 11 68 82 16 36 14]\n",
      " [97 25 97 10 26 61 90 31 66 48]\n",
      " [12 85 26 84 90 68 72 96 99 79]]\n"
     ]
    }
   ],
   "source": [
    "print(b[ 2:21:2,:])"
   ]
  },
  {
   "cell_type": "code",
   "execution_count": 184,
   "metadata": {},
   "outputs": [
    {
     "name": "stdout",
     "output_type": "stream",
     "text": [
      "[[71 59 74  0 38  0 73 60  1 25]\n",
      " [51 98 55  9 61 22 31 41 98 72]\n",
      " [94 17 40 96 11 68 82 16 36 14]\n",
      " [97 25 97 10 26 61 90 31 66 48]\n",
      " [12 85 26 84 90 68 72 96 99 79]]\n"
     ]
    }
   ],
   "source": [
    "print(b[ ::2,:])"
   ]
  },
  {
   "cell_type": "code",
   "execution_count": 185,
   "metadata": {},
   "outputs": [
    {
     "name": "stdout",
     "output_type": "stream",
     "text": [
      "[[34 17 96 66 71 16 66 79 60 10]\n",
      " [12 85 26 84 90 68 72 96 99 79]\n",
      " [92 65 79 41 25 85 96 80 37 80]\n",
      " [97 25 97 10 26 61 90 31 66 48]\n",
      " [66 21 26 46 75 79 92 63  9  0]\n",
      " [94 17 40 96 11 68 82 16 36 14]\n",
      " [16 30 84 88 60 14 85 30  8 42]\n",
      " [51 98 55  9 61 22 31 41 98 72]\n",
      " [90 43 33 92 82 88 46 73 26 24]\n",
      " [71 59 74  0 38  0 73 60  1 25]]\n"
     ]
    }
   ],
   "source": [
    "print(b[ ::-1,:])"
   ]
  },
  {
   "cell_type": "code",
   "execution_count": 186,
   "metadata": {},
   "outputs": [
    {
     "name": "stdout",
     "output_type": "stream",
     "text": [
      "[[71 59 74  0 38  0 73 60  1 25]\n",
      " [90 43 33 92 82 88 46 73 26 24]\n",
      " [51 98 55  9 61 22 31 41 98 72]\n",
      " [16 30 84 88 60 14 85 30  8 42]\n",
      " [94 17 40 96 11 68 82 16 36 14]\n",
      " [66 21 26 46 75 79 92 63  9  0]\n",
      " [97 25 97 10 26 61 90 31 66 48]\n",
      " [92 65 79 41 25 85 96 80 37 80]\n",
      " [12 85 26 84 90 68 72 96 99 79]\n",
      " [34 17 96 66 71 16 66 79 60 10]\n",
      " [71 59 74  0 38  0 73 60  1 25]]\n"
     ]
    }
   ],
   "source": [
    "print(b[np.r_[:len(b),0]])"
   ]
  },
  {
   "cell_type": "code",
   "execution_count": 187,
   "metadata": {},
   "outputs": [
    {
     "name": "stdout",
     "output_type": "stream",
     "text": [
      "[[1. 4.]\n",
      " [2. 5.]\n",
      " [3. 6.]]\n"
     ]
    }
   ],
   "source": [
    "print(a.T)"
   ]
  },
  {
   "cell_type": "code",
   "execution_count": 188,
   "metadata": {},
   "outputs": [
    {
     "name": "stdout",
     "output_type": "stream",
     "text": [
      "[[1. 4.]\n",
      " [2. 5.]\n",
      " [3. 6.]]\n"
     ]
    }
   ],
   "source": [
    "print(a.conj().transpose())"
   ]
  },
  {
   "cell_type": "code",
   "execution_count": 189,
   "metadata": {},
   "outputs": [
    {
     "name": "stdout",
     "output_type": "stream",
     "text": [
      "[[29 14]\n",
      " [17 92]\n",
      " [75 66]]\n",
      "[[80 42]\n",
      " [80 55]\n",
      " [ 2 88]]\n"
     ]
    }
   ],
   "source": [
    "c = (np.random.rand(3, 2)*100).astype(int)\n",
    "d = (np.random.rand(3, 2)*100).astype(int)\n",
    "print(c)\n",
    "print(d)"
   ]
  },
  {
   "cell_type": "code",
   "execution_count": 190,
   "metadata": {},
   "outputs": [
    {
     "name": "stdout",
     "output_type": "stream",
     "text": [
      "[[288. 396.]\n",
      " [651. 912.]]\n"
     ]
    }
   ],
   "source": [
    "print(a@c)"
   ]
  },
  {
   "cell_type": "code",
   "execution_count": 191,
   "metadata": {},
   "outputs": [
    {
     "name": "stdout",
     "output_type": "stream",
     "text": [
      "[[2320  588]\n",
      " [1360 5060]\n",
      " [ 150 5808]]\n"
     ]
    }
   ],
   "source": [
    "print(c*d)"
   ]
  },
  {
   "cell_type": "code",
   "execution_count": 192,
   "metadata": {},
   "outputs": [
    {
     "name": "stdout",
     "output_type": "stream",
     "text": [
      "[[ 0.3625      0.33333333]\n",
      " [ 0.2125      1.67272727]\n",
      " [37.5         0.75      ]]\n"
     ]
    }
   ],
   "source": [
    "print(c/d)"
   ]
  },
  {
   "cell_type": "code",
   "execution_count": 193,
   "metadata": {},
   "outputs": [
    {
     "name": "stdout",
     "output_type": "stream",
     "text": [
      "[[  1.   8.  27.]\n",
      " [ 64. 125. 216.]]\n"
     ]
    }
   ],
   "source": [
    "print(a**3)"
   ]
  },
  {
   "cell_type": "code",
   "execution_count": 194,
   "metadata": {},
   "outputs": [
    {
     "name": "stdout",
     "output_type": "stream",
     "text": [
      "[[ True  True  True]\n",
      " [ True  True  True]]\n"
     ]
    }
   ],
   "source": [
    "print((a>0.5))"
   ]
  },
  {
   "cell_type": "code",
   "execution_count": 195,
   "metadata": {},
   "outputs": [
    {
     "name": "stdout",
     "output_type": "stream",
     "text": [
      "(array([0, 0, 0, 1, 1, 1]), array([0, 1, 2, 0, 1, 2]))\n"
     ]
    }
   ],
   "source": [
    "print(np.nonzero(a>0.5))"
   ]
  },
  {
   "cell_type": "code",
   "execution_count": 196,
   "metadata": {},
   "outputs": [
    {
     "name": "stdout",
     "output_type": "stream",
     "text": [
      "[[2. 3.]\n",
      " [5. 6.]]\n"
     ]
    }
   ],
   "source": [
    "v = np.array([0,1,0.6])\n",
    "print(a[:,np.nonzero(v>0.5)[0]])"
   ]
  },
  {
   "cell_type": "code",
   "execution_count": 197,
   "metadata": {},
   "outputs": [
    {
     "name": "stdout",
     "output_type": "stream",
     "text": [
      "[[2. 3.]\n",
      " [5. 6.]]\n"
     ]
    }
   ],
   "source": [
    "print(a[:,v.T>0.5])"
   ]
  },
  {
   "cell_type": "code",
   "execution_count": 198,
   "metadata": {},
   "outputs": [
    {
     "name": "stdout",
     "output_type": "stream",
     "text": [
      "[[71 59 74  0  0  0 73 60  0  0]\n",
      " [90 43  0 92 82 88 46 73  0  0]\n",
      " [51 98 55  0 61  0  0 41 98 72]\n",
      " [ 0  0 84 88 60  0 85  0  0 42]\n",
      " [94  0 40 96  0 68 82  0  0  0]\n",
      " [66  0  0 46 75 79 92 63  0  0]\n",
      " [97  0 97  0  0 61 90  0 66 48]\n",
      " [92 65 79 41  0 85 96 80  0 80]\n",
      " [ 0 85  0 84 90 68 72 96 99 79]\n",
      " [ 0  0 96 66 71  0 66 79 60  0]]\n"
     ]
    }
   ],
   "source": [
    "b[b<40]=0\n",
    "print(b)"
   ]
  },
  {
   "cell_type": "code",
   "execution_count": 199,
   "metadata": {},
   "outputs": [
    {
     "name": "stdout",
     "output_type": "stream",
     "text": [
      "[[0. 0. 0.]\n",
      " [0. 0. 6.]]\n"
     ]
    }
   ],
   "source": [
    "print(a * (a>5))"
   ]
  },
  {
   "cell_type": "code",
   "execution_count": 200,
   "metadata": {},
   "outputs": [
    {
     "name": "stdout",
     "output_type": "stream",
     "text": [
      "[[3. 3. 3.]\n",
      " [3. 3. 3.]]\n"
     ]
    }
   ],
   "source": [
    "a[:] = 3\n",
    "print(a)"
   ]
  },
  {
   "cell_type": "code",
   "execution_count": 210,
   "metadata": {},
   "outputs": [
    {
     "name": "stdout",
     "output_type": "stream",
     "text": [
      "[[ 1 90 41 78  3 13 49 34 36 26]\n",
      " [96 84 87 74 15 26  3 57 88 29]\n",
      " [74 49 72 22 81 34 17 78 24 34]\n",
      " [57 82 66  6 57 68 67 57 63 33]\n",
      " [89  4 79 94 26 19 32 83 95 91]\n",
      " [37 69 77 67  3 86 81 85 22 20]\n",
      " [73 86 29 17 40 76 15 73 13  8]\n",
      " [17 59 27 93 72 49 19  3 72 35]\n",
      " [53 35 53 77 18 84 45  5 25 46]\n",
      " [ 3 41  0 65  1 90 33 52 32 95]]\n",
      "[[ 1 90 41 78  3 13 49 34 36 26]\n",
      " [96 84 87 74 15 26  3 57 88 29]\n",
      " [74 49 72 22 81 34 17 78 24 34]\n",
      " [57 82 66  6 57 68 67 57 63 33]\n",
      " [89  4 79 94 26 19 32 83 95 91]\n",
      " [37 69 77 67  3 86 81 85 22 20]\n",
      " [73 86 29 17 40 76 15 73 13  8]\n",
      " [17 59 27 93 72 49 19  3 72 35]\n",
      " [53 35 53 77 18 84 45  5 25 46]\n",
      " [ 3 41  0 65  1 90 33 52 32 95]]\n",
      "[96 84 87 74 15 26  3 57 88 29]\n",
      "[ 1 90 41 78  3 13 49 34 36 26 96 84 87 74 15 26  3 57 88 29 74 49 72 22\n",
      " 81 34 17 78 24 34 57 82 66  6 57 68 67 57 63 33 89  4 79 94 26 19 32 83\n",
      " 95 91 37 69 77 67  3 86 81 85 22 20 73 86 29 17 40 76 15 73 13  8 17 59\n",
      " 27 93 72 49 19  3 72 35 53 35 53 77 18 84 45  5 25 46  3 41  0 65  1 90\n",
      " 33 52 32 95]\n",
      "[ 1.  2.  3.  4.  5.  6.  7.  8.  9. 10.]\n"
     ]
    }
   ],
   "source": [
    "x = (np.random.rand(10,10)*100).astype(int)\n",
    "y = x.copy()\n",
    "print(x)\n",
    "print(y)\n",
    "y = x[1,:].copy()\n",
    "print(y)\n",
    "y = x.flatten()\n",
    "print(y)\n",
    "print(np.arange(1.,11.))"
   ]
  },
  {
   "cell_type": "code",
   "execution_count": 211,
   "metadata": {},
   "outputs": [
    {
     "data": {
      "text/plain": [
       "array([0., 1., 2., 3., 4., 5., 6., 7., 8., 9.])"
      ]
     },
     "execution_count": 211,
     "metadata": {},
     "output_type": "execute_result"
    }
   ],
   "source": [
    "print(np.arange(10.))"
   ]
  },
  {
   "cell_type": "code",
   "execution_count": 230,
   "metadata": {},
   "outputs": [
    {
     "data": {
      "text/plain": [
       "array([[ 1.],\n",
       "       [ 2.],\n",
       "       [ 3.],\n",
       "       [ 4.],\n",
       "       [ 5.],\n",
       "       [ 6.],\n",
       "       [ 7.],\n",
       "       [ 8.],\n",
       "       [ 9.],\n",
       "       [10.]])"
      ]
     },
     "execution_count": 230,
     "metadata": {},
     "output_type": "execute_result"
    }
   ],
   "source": [
    "np.arange(1.,11.)[:, np.newaxis]"
   ]
  },
  {
   "cell_type": "code",
   "execution_count": 232,
   "metadata": {},
   "outputs": [
    {
     "name": "stdout",
     "output_type": "stream",
     "text": [
      "[[0. 0. 0. 0.]\n",
      " [0. 0. 0. 0.]\n",
      " [0. 0. 0. 0.]]\n"
     ]
    }
   ],
   "source": [
    "print(np.zeros((3,4)))"
   ]
  },
  {
   "cell_type": "code",
   "execution_count": 234,
   "metadata": {},
   "outputs": [
    {
     "name": "stdout",
     "output_type": "stream",
     "text": [
      "[[[0. 0. 0. 0. 0.]\n",
      "  [0. 0. 0. 0. 0.]\n",
      "  [0. 0. 0. 0. 0.]\n",
      "  [0. 0. 0. 0. 0.]]\n",
      "\n",
      " [[0. 0. 0. 0. 0.]\n",
      "  [0. 0. 0. 0. 0.]\n",
      "  [0. 0. 0. 0. 0.]\n",
      "  [0. 0. 0. 0. 0.]]\n",
      "\n",
      " [[0. 0. 0. 0. 0.]\n",
      "  [0. 0. 0. 0. 0.]\n",
      "  [0. 0. 0. 0. 0.]\n",
      "  [0. 0. 0. 0. 0.]]]\n"
     ]
    }
   ],
   "source": [
    "print(np.zeros((3,4,5)))"
   ]
  },
  {
   "cell_type": "code",
   "execution_count": 235,
   "metadata": {},
   "outputs": [
    {
     "name": "stdout",
     "output_type": "stream",
     "text": [
      "[[1. 1. 1. 1.]\n",
      " [1. 1. 1. 1.]\n",
      " [1. 1. 1. 1.]]\n"
     ]
    }
   ],
   "source": [
    "print(np.ones((3,4)))"
   ]
  },
  {
   "cell_type": "code",
   "execution_count": 237,
   "metadata": {},
   "outputs": [
    {
     "name": "stdout",
     "output_type": "stream",
     "text": [
      "[[1. 0. 0.]\n",
      " [0. 1. 0.]\n",
      " [0. 0. 1.]]\n"
     ]
    }
   ],
   "source": [
    "print(np.eye(3))"
   ]
  },
  {
   "cell_type": "code",
   "execution_count": 238,
   "metadata": {},
   "outputs": [
    {
     "name": "stdout",
     "output_type": "stream",
     "text": [
      "[3. 3.]\n"
     ]
    }
   ],
   "source": [
    "print(np.diag(a))"
   ]
  },
  {
   "cell_type": "code",
   "execution_count": 239,
   "metadata": {},
   "outputs": [
    {
     "name": "stdout",
     "output_type": "stream",
     "text": [
      "[3. 3.]\n"
     ]
    }
   ],
   "source": [
    "print(np.diag(a,0))"
   ]
  },
  {
   "cell_type": "code",
   "execution_count": 241,
   "metadata": {},
   "outputs": [
    {
     "name": "stdout",
     "output_type": "stream",
     "text": [
      "[[0.52349565 0.6485434  0.96776079 0.74589455]\n",
      " [0.6853898  0.87416572 0.32160169 0.8452578 ]\n",
      " [0.82999421 0.03925166 0.76775749 0.3367142 ]]\n"
     ]
    }
   ],
   "source": [
    "print(np.random.rand(3,4))"
   ]
  },
  {
   "cell_type": "code",
   "execution_count": 242,
   "metadata": {},
   "outputs": [
    {
     "name": "stdout",
     "output_type": "stream",
     "text": [
      "[1.         1.66666667 2.33333333 3.        ]\n"
     ]
    }
   ],
   "source": [
    "print(np.linspace(1,3,4))"
   ]
  },
  {
   "cell_type": "code",
   "execution_count": 243,
   "metadata": {},
   "outputs": [
    {
     "name": "stdout",
     "output_type": "stream",
     "text": [
      "[[[0. 0. 0. 0. 0. 0.]\n",
      "  [1. 1. 1. 1. 1. 1.]\n",
      "  [2. 2. 2. 2. 2. 2.]\n",
      "  [3. 3. 3. 3. 3. 3.]\n",
      "  [4. 4. 4. 4. 4. 4.]\n",
      "  [5. 5. 5. 5. 5. 5.]\n",
      "  [6. 6. 6. 6. 6. 6.]\n",
      "  [7. 7. 7. 7. 7. 7.]\n",
      "  [8. 8. 8. 8. 8. 8.]]\n",
      "\n",
      " [[0. 1. 2. 3. 4. 5.]\n",
      "  [0. 1. 2. 3. 4. 5.]\n",
      "  [0. 1. 2. 3. 4. 5.]\n",
      "  [0. 1. 2. 3. 4. 5.]\n",
      "  [0. 1. 2. 3. 4. 5.]\n",
      "  [0. 1. 2. 3. 4. 5.]\n",
      "  [0. 1. 2. 3. 4. 5.]\n",
      "  [0. 1. 2. 3. 4. 5.]\n",
      "  [0. 1. 2. 3. 4. 5.]]]\n"
     ]
    }
   ],
   "source": [
    "print(np.mgrid[0:9.,0:6.])"
   ]
  },
  {
   "cell_type": "code",
   "execution_count": 244,
   "metadata": {},
   "outputs": [
    {
     "name": "stdout",
     "output_type": "stream",
     "text": [
      "[array([[0.],\n",
      "       [1.],\n",
      "       [2.],\n",
      "       [3.],\n",
      "       [4.],\n",
      "       [5.],\n",
      "       [6.],\n",
      "       [7.],\n",
      "       [8.]]), array([[0., 1., 2., 3., 4., 5.]])]\n"
     ]
    }
   ],
   "source": [
    "print(np.ogrid[0:9.,0:6.])"
   ]
  },
  {
   "cell_type": "code",
   "execution_count": 245,
   "metadata": {},
   "outputs": [
    {
     "name": "stdout",
     "output_type": "stream",
     "text": [
      "[array([[1, 2, 4],\n",
      "       [1, 2, 4],\n",
      "       [1, 2, 4]]), array([[2, 2, 2],\n",
      "       [4, 4, 4],\n",
      "       [5, 5, 5]])]\n"
     ]
    }
   ],
   "source": [
    "print(np.meshgrid([1,2,4],[2,4,5]))"
   ]
  },
  {
   "cell_type": "code",
   "execution_count": 246,
   "metadata": {},
   "outputs": [
    {
     "name": "stdout",
     "output_type": "stream",
     "text": [
      "(array([[1],\n",
      "       [2],\n",
      "       [4]]), array([[2, 4, 5]]))\n"
     ]
    }
   ],
   "source": [
    "print(np.ix_([1,2,4],[2,4,5]))"
   ]
  },
  {
   "cell_type": "code",
   "execution_count": 248,
   "metadata": {},
   "outputs": [
    {
     "name": "stdout",
     "output_type": "stream",
     "text": [
      "[[3. 3. 3. 3. 3. 3. 3. 3. 3.]\n",
      " [3. 3. 3. 3. 3. 3. 3. 3. 3.]\n",
      " [3. 3. 3. 3. 3. 3. 3. 3. 3.]\n",
      " [3. 3. 3. 3. 3. 3. 3. 3. 3.]\n",
      " [3. 3. 3. 3. 3. 3. 3. 3. 3.]\n",
      " [3. 3. 3. 3. 3. 3. 3. 3. 3.]\n",
      " [3. 3. 3. 3. 3. 3. 3. 3. 3.]\n",
      " [3. 3. 3. 3. 3. 3. 3. 3. 3.]]\n"
     ]
    }
   ],
   "source": [
    "print(np.tile(a, (4, 3)))"
   ]
  },
  {
   "cell_type": "code",
   "execution_count": 251,
   "metadata": {},
   "outputs": [
    {
     "name": "stdout",
     "output_type": "stream",
     "text": [
      "[[29 14 80 42]\n",
      " [17 92 80 55]\n",
      " [75 66  2 88]]\n"
     ]
    }
   ],
   "source": [
    "print(np.concatenate((c,d),1))"
   ]
  },
  {
   "cell_type": "code",
   "execution_count": 255,
   "metadata": {},
   "outputs": [
    {
     "name": "stdout",
     "output_type": "stream",
     "text": [
      "3.0\n"
     ]
    }
   ],
   "source": [
    "print(a.max())"
   ]
  },
  {
   "cell_type": "code",
   "execution_count": 256,
   "metadata": {},
   "outputs": [
    {
     "name": "stdout",
     "output_type": "stream",
     "text": [
      "[3. 3. 3.]\n",
      "[3. 3.]\n"
     ]
    }
   ],
   "source": [
    "print(a.max(0))\n",
    "print(a.max(1))"
   ]
  },
  {
   "cell_type": "code",
   "execution_count": 257,
   "metadata": {},
   "outputs": [
    {
     "name": "stdout",
     "output_type": "stream",
     "text": [
      "[[80 42]\n",
      " [80 92]\n",
      " [75 88]]\n"
     ]
    }
   ],
   "source": [
    "print(np.maximum(c, d))"
   ]
  },
  {
   "cell_type": "code",
   "execution_count": 258,
   "metadata": {},
   "outputs": [
    {
     "data": {
      "text/plain": [
       "1.16619037896906"
      ]
     },
     "execution_count": 258,
     "metadata": {},
     "output_type": "execute_result"
    }
   ],
   "source": [
    "print(np.linalg.norm(v))"
   ]
  },
  {
   "cell_type": "code",
   "execution_count": 262,
   "metadata": {},
   "outputs": [
    {
     "data": {
      "text/plain": [
       "array([[ True,  True],\n",
       "       [ True,  True],\n",
       "       [ True,  True]])"
      ]
     },
     "execution_count": 262,
     "metadata": {},
     "output_type": "execute_result"
    }
   ],
   "source": [
    "print(np.logical_and(c,d))"
   ]
  },
  {
   "cell_type": "code",
   "execution_count": 263,
   "metadata": {},
   "outputs": [
    {
     "data": {
      "text/plain": [
       "array([[ True,  True],\n",
       "       [ True,  True],\n",
       "       [ True,  True]])"
      ]
     },
     "execution_count": 263,
     "metadata": {},
     "output_type": "execute_result"
    }
   ],
   "source": [
    "print(np.logical_and(c,d))"
   ]
  },
  {
   "cell_type": "code",
   "execution_count": 264,
   "metadata": {},
   "outputs": [
    {
     "data": {
      "text/plain": [
       "array([[16, 10],\n",
       "       [16, 20],\n",
       "       [ 2, 64]])"
      ]
     },
     "execution_count": 264,
     "metadata": {},
     "output_type": "execute_result"
    }
   ],
   "source": [
    "print(c&d)"
   ]
  },
  {
   "cell_type": "code",
   "execution_count": 265,
   "metadata": {},
   "outputs": [
    {
     "name": "stdout",
     "output_type": "stream",
     "text": [
      "[[ 93  46]\n",
      " [ 81 127]\n",
      " [ 75  90]]\n"
     ]
    }
   ],
   "source": [
    "print(c|d)"
   ]
  },
  {
   "cell_type": "code",
   "execution_count": 276,
   "metadata": {},
   "outputs": [
    {
     "name": "stdout",
     "output_type": "stream",
     "text": [
      "[[-1.32607739e-02 -2.89256333e-02  2.72518839e-02 -1.02557456e-02\n",
      "   2.70587457e-02  2.93635911e-02 -2.37666031e-02  1.06393181e-02\n",
      "  -1.57182635e-02  7.56698788e-03]\n",
      " [ 2.33896978e-02  3.41736174e-02 -2.26341750e-02  1.11243656e-02\n",
      "  -2.41802162e-02 -3.25777645e-02  2.34277548e-02 -1.55583763e-02\n",
      "   1.62351281e-02 -1.55893392e-02]\n",
      " [ 9.29182909e-03  2.89031461e-02 -1.82594226e-02  8.77011729e-03\n",
      "  -2.27000187e-02 -2.72788309e-02  2.21682623e-02 -5.93357948e-03\n",
      "   4.51826923e-03 -2.01650917e-03]\n",
      " [-7.45532159e-03 -1.03735546e-02  8.32005175e-03 -2.69213925e-03\n",
      "   1.70291822e-02  4.56338092e-03 -1.34472521e-02  4.79437278e-03\n",
      "  -2.83614682e-03  5.88220172e-03]\n",
      " [ 1.80948718e-03  1.18679718e-02 -1.48957269e-03  8.09830801e-03\n",
      "  -1.25616856e-02 -2.76644649e-04  6.88445307e-03 -6.40606302e-03\n",
      "  -6.43650739e-04 -4.07790593e-03]\n",
      " [ 1.38383451e-02  4.86431469e-02 -3.57113489e-02  9.59996725e-03\n",
      "  -3.69186532e-02 -4.04616874e-02  3.89159420e-02 -1.27516144e-02\n",
      "   1.67111700e-02 -1.20524302e-02]\n",
      " [ 7.92125603e-03 -9.13401293e-03 -2.45918807e-03  2.66930481e-03\n",
      "   2.92860464e-03  7.85714453e-03 -9.77762921e-05 -4.34027716e-03\n",
      "   5.27678701e-03 -4.58247080e-03]\n",
      " [-1.17387378e-02 -2.39095554e-02  1.55208429e-02 -1.28671260e-02\n",
      "   1.61912509e-02  2.13722512e-02 -2.21353742e-02  1.53079623e-02\n",
      "  -9.35722040e-03  1.44376153e-02]\n",
      " [-2.06467618e-03 -7.34956140e-03  4.09501069e-03 -6.64835170e-03\n",
      "   7.91264534e-03  2.17078349e-03  4.28618170e-04 -3.58075375e-03\n",
      "   3.16805860e-03  4.27937252e-03]\n",
      " [-2.15790795e-02 -3.45399684e-02  2.61912450e-02 -5.06121399e-03\n",
      "   2.17381733e-02  2.94901349e-02 -2.57983821e-02  1.97572193e-02\n",
      "  -1.28538463e-02  6.80803317e-03]]\n"
     ]
    }
   ],
   "source": [
    "print(np.linalg.inv(b))"
   ]
  },
  {
   "cell_type": "code",
   "execution_count": 275,
   "metadata": {},
   "outputs": [
    {
     "name": "stdout",
     "output_type": "stream",
     "text": [
      "[[0.05555556 0.05555556]\n",
      " [0.05555556 0.05555556]\n",
      " [0.05555556 0.05555556]]\n"
     ]
    }
   ],
   "source": [
    "print(np.linalg.pinv(a))"
   ]
  },
  {
   "cell_type": "code",
   "execution_count": 278,
   "metadata": {},
   "outputs": [
    {
     "name": "stdout",
     "output_type": "stream",
     "text": [
      "1\n"
     ]
    }
   ],
   "source": [
    "print(np.linalg.matrix_rank(a))"
   ]
  },
  {
   "cell_type": "code",
   "execution_count": 284,
   "metadata": {},
   "outputs": [
    {
     "name": "stdout",
     "output_type": "stream",
     "text": [
      "[[ 1.00000000e+00  0.00000000e+00  0.00000000e+00  1.43572823e-15\n",
      "  -1.63668316e-16 -7.32518284e-17  0.00000000e+00 -6.87189929e-16\n",
      "   0.00000000e+00 -7.32518284e-17]\n",
      " [ 0.00000000e+00  1.00000000e+00 -3.26269624e-16 -1.70782719e-15\n",
      "   2.90017443e-16  0.00000000e+00  0.00000000e+00  8.70052330e-16\n",
      "   0.00000000e+00  2.90017443e-16]\n",
      " [ 0.00000000e+00  0.00000000e+00  1.00000000e+00 -1.33226763e-15\n",
      "   0.00000000e+00 -9.37768760e-18  1.16530318e-16  5.48054824e-16\n",
      "   4.25154494e-17  1.32046895e-16]\n",
      " [ 0.00000000e+00  0.00000000e+00  1.04705468e-16  1.00000000e+00\n",
      "   0.00000000e+00  0.00000000e+00  4.58173366e-17 -3.66538692e-16\n",
      "   4.58173366e-17  0.00000000e+00]\n",
      " [-0.00000000e+00 -0.00000000e+00 -3.07151863e-17 -4.44769395e-16\n",
      "   1.00000000e+00 -0.00000000e+00 -4.65550926e-17  1.35323028e-16\n",
      "  -0.00000000e+00 -6.98326389e-17]\n",
      " [-0.00000000e+00 -0.00000000e+00 -2.13976576e-16 -2.28322552e-15\n",
      "   2.66602611e-16  1.00000000e+00  1.15770776e-16  9.26166210e-16\n",
      "  -0.00000000e+00  1.73656164e-16]\n",
      " [ 0.00000000e+00  0.00000000e+00 -1.14083042e-16  3.54596407e-16\n",
      "   8.30852957e-17  1.87037442e-17  1.00000000e+00  0.00000000e+00\n",
      "  -6.01711480e-17  1.61623854e-17]\n",
      " [-0.00000000e+00 -0.00000000e+00  1.79581781e-16  1.19233535e-15\n",
      "  -1.72008002e-16 -4.95653511e-17 -0.00000000e+00  1.00000000e+00\n",
      "  -0.00000000e+00 -1.36152360e-16]\n",
      " [-0.00000000e+00 -0.00000000e+00  2.93408133e-17  3.26274691e-16\n",
      "   2.48522832e-17  5.96912272e-17 -0.00000000e+00 -1.53160387e-16\n",
      "   1.00000000e+00  3.28489083e-17]\n",
      " [-0.00000000e+00 -0.00000000e+00  3.06657163e-16  1.57902650e-15\n",
      "  -1.98017916e-16 -2.93355612e-17 -0.00000000e+00 -6.85238503e-16\n",
      "  -0.00000000e+00  1.00000000e+00]]\n"
     ]
    }
   ],
   "source": [
    "print(np.linalg.solve(b,b))"
   ]
  },
  {
   "cell_type": "code",
   "execution_count": 285,
   "metadata": {},
   "outputs": [
    {
     "name": "stdout",
     "output_type": "stream",
     "text": [
      "[[ 1.00000000e+00  0.00000000e+00  1.92038577e-16 -3.84077154e-16\n",
      "   2.88057866e-16 -6.80438258e-17  0.00000000e+00  1.92038577e-16\n",
      "  -3.07844401e-16 -9.60192886e-16]\n",
      " [-1.57084689e-16  1.00000000e+00  2.04109537e-16 -1.23572650e-15\n",
      "   0.00000000e+00 -1.54465812e-16  7.54501952e-16  3.86164530e-16\n",
      "  -7.72329061e-16 -1.39019231e-15]\n",
      " [ 1.05171768e-16  0.00000000e+00  1.00000000e+00  8.72327591e-16\n",
      "   5.27636261e-17  1.11485847e-16 -5.80034886e-16 -4.19450067e-16\n",
      "   5.80034886e-16  1.23257413e-15]\n",
      " [-3.29051942e-17 -0.00000000e+00  9.99634118e-17  1.00000000e+00\n",
      "  -0.00000000e+00 -8.52575142e-17  2.55772543e-16  1.70515028e-16\n",
      "  -8.52575142e-17 -0.00000000e+00]\n",
      " [ 1.13753142e-16 -0.00000000e+00 -1.71837508e-16  1.04765797e-15\n",
      "   1.00000000e+00  8.73651438e-17 -6.03573493e-16 -3.30903851e-16\n",
      "   5.13547511e-16  1.10985901e-15]\n",
      " [ 1.54843588e-16  0.00000000e+00 -1.16632768e-16  1.05672618e-15\n",
      "   7.73350341e-17  1.00000000e+00 -6.52422427e-16 -4.00967950e-16\n",
      "   8.69896570e-16  1.22329205e-15]\n",
      " [-8.70924971e-17 -0.00000000e+00  1.26285105e-16 -8.26969631e-16\n",
      "  -2.61709650e-16 -1.59068496e-16  1.00000000e+00  4.22304633e-16\n",
      "  -7.28999628e-16 -1.04695680e-15]\n",
      " [ 5.56585295e-17  0.00000000e+00 -9.86130706e-17  3.86102122e-16\n",
      "   6.31373823e-17  1.03189748e-16 -2.76369911e-16  1.00000000e+00\n",
      "   3.60947591e-16  3.57111433e-16]\n",
      " [-8.18049575e-17  0.00000000e+00  5.31767571e-17 -4.93257707e-16\n",
      "   6.12574639e-17 -6.64870498e-17  3.09290212e-16  2.37480009e-16\n",
      "   1.00000000e+00 -6.32370349e-16]\n",
      " [ 5.89993722e-17  0.00000000e+00 -9.29857774e-17  2.98740078e-16\n",
      "   1.00625210e-16  1.02585427e-16 -2.82074059e-16 -1.71275335e-16\n",
      "   2.05170854e-16  1.00000000e+00]]\n"
     ]
    }
   ],
   "source": [
    "print(np.linalg.solve(b.T,b.T))"
   ]
  },
  {
   "cell_type": "code",
   "execution_count": 291,
   "metadata": {},
   "outputs": [
    {
     "name": "stdout",
     "output_type": "stream",
     "text": [
      "[[-0.70710678 -0.70710678]\n",
      " [-0.70710678  0.70710678]]\n",
      "[7.34846923e+00 9.12304898e-17]\n",
      "[[-5.77350269e-01 -5.77350269e-01 -5.77350269e-01]\n",
      " [-8.16496581e-01  4.08248290e-01  4.08248290e-01]\n",
      " [-9.55821271e-17 -7.07106781e-01  7.07106781e-01]]\n"
     ]
    }
   ],
   "source": [
    "U, S, Vh = np.linalg.svd(a)\n",
    "print(U)\n",
    "print(S)\n",
    "print(Vh)"
   ]
  },
  {
   "cell_type": "code",
   "execution_count": 304,
   "metadata": {},
   "outputs": [
    {
     "name": "stdout",
     "output_type": "stream",
     "text": [
      "[[1. 0. 0. 0. 0.]\n",
      " [0. 1. 0. 0. 0.]\n",
      " [0. 0. 1. 0. 0.]\n",
      " [0. 0. 0. 1. 0.]\n",
      " [0. 0. 0. 0. 1.]]\n"
     ]
    }
   ],
   "source": [
    "print(np.linalg.cholesky(np.eye(5)).T)"
   ]
  },
  {
   "cell_type": "code",
   "execution_count": 308,
   "metadata": {},
   "outputs": [
    {
     "name": "stdout",
     "output_type": "stream",
     "text": [
      "[ 459.89523977  +0.j           47.29268529+147.78990523j\n",
      "   47.29268529-147.78990523j  133.65267395  +0.j\n",
      " -107.33425595  +0.j           78.87975512  +0.j\n",
      "   43.71387978  +0.j          -60.24154903  +0.j\n",
      "  -19.07555711 +19.56415526j  -19.07555711 -19.56415526j]\n",
      "[[ 0.23303041+0.j         -0.15900622+0.04619176j -0.15900622-0.04619176j\n",
      "   0.38796252+0.j         -0.32930042+0.j          0.22516071+0.j\n",
      "  -0.13246315+0.j          0.19419479+0.j         -0.43023472+0.12277597j\n",
      "  -0.43023472-0.12277597j]\n",
      " [ 0.30104752+0.j          0.45493725+0.j          0.45493725-0.j\n",
      "   0.26687508+0.j          0.01224876+0.j          0.14704804+0.j\n",
      "   0.41114833+0.j         -0.03523926+0.j          0.40063267-0.09352821j\n",
      "   0.40063267+0.09352821j]\n",
      " [ 0.343776  +0.j         -0.10277427-0.42730267j -0.10277427+0.42730267j\n",
      "  -0.11276303+0.j          0.21942975+0.j          0.30715422+0.j\n",
      "  -0.01637386+0.j         -0.38085259+0.j          0.34355349-0.07421753j\n",
      "   0.34355349+0.07421753j]\n",
      " [ 0.22028914+0.j         -0.05476846+0.25086233j -0.05476846-0.25086233j\n",
      "  -0.57481366+0.j         -0.13802519+0.j          0.43651659+0.j\n",
      "  -0.1794196 +0.j         -0.22224796+0.j         -0.11159758-0.06885977j\n",
      "  -0.11159758+0.06885977j]\n",
      " [ 0.21735199+0.j          0.10037223+0.23013423j  0.10037223-0.23013423j\n",
      "  -0.02687765+0.j          0.2436369 +0.j          0.04590435+0.j\n",
      "   0.26618565+0.j          0.41241746+0.j         -0.01844323+0.19591845j\n",
      "  -0.01844323-0.19591845j]\n",
      " [ 0.25325545+0.j          0.30452292+0.16266876j  0.30452292-0.16266876j\n",
      "   0.2756566 +0.j         -0.20609828+0.j         -0.48838117+0.j\n",
      "   0.42467071+0.j         -0.29496838+0.j          0.49099251+0.j\n",
      "   0.49099251-0.j        ]\n",
      " [ 0.31626976+0.j         -0.31288871+0.04053038j -0.31288871-0.04053038j\n",
      "   0.01081996+0.j          0.28404349+0.j         -0.46982958+0.j\n",
      "   0.15962405+0.j          0.16498514+0.j          0.00664191-0.07389978j\n",
      "   0.00664191+0.07389978j]\n",
      " [ 0.4055916 +0.j          0.00913015+0.06778473j  0.00913015-0.06778473j\n",
      "   0.26859778+0.j          0.35049822+0.j          0.07777539+0.j\n",
      "  -0.5180706 +0.j         -0.12113552+0.j         -0.21989203-0.05118912j\n",
      "  -0.21989203+0.05118912j]\n",
      " [ 0.46348297+0.j          0.31264035-0.32287329j  0.31264035+0.32287329j\n",
      "  -0.37369219+0.j          0.02621054+0.j         -0.37992213+0.j\n",
      "   0.06439641+0.j         -0.28176393+0.j         -0.05538698-0.05030567j\n",
      "  -0.05538698+0.05030567j]\n",
      " [ 0.31245831+0.j         -0.1342666 +0.00795551j -0.1342666 -0.00795551j\n",
      "  -0.38277914+0.j         -0.7198324 +0.j          0.17617049+0.j\n",
      "  -0.48138049+0.j          0.62307656+0.j         -0.35761681+0.14167934j\n",
      "  -0.35761681-0.14167934j]]\n"
     ]
    }
   ],
   "source": [
    "D,V = np.linalg.eig(b)\n",
    "print(D)\n",
    "print(V)"
   ]
  },
  {
   "cell_type": "code",
   "execution_count": 317,
   "metadata": {},
   "outputs": [
    {
     "name": "stdout",
     "output_type": "stream",
     "text": [
      "[[-0.70710678 -0.70710678]\n",
      " [-0.70710678  0.70710678]]\n",
      "[[-4.24264069e+00 -4.24264069e+00 -4.24264069e+00]\n",
      " [ 0.00000000e+00 -1.08176281e-16 -1.08176281e-16]]\n"
     ]
    }
   ],
   "source": [
    "Q,R = scipy.linalg.qr(a)\n",
    "print(Q)\n",
    "print(R)"
   ]
  },
  {
   "cell_type": "code",
   "execution_count": 319,
   "metadata": {},
   "outputs": [
    {
     "name": "stdout",
     "output_type": "stream",
     "text": [
      "[[ 9.70000000e+01  0.00000000e+00  9.70000000e+01  0.00000000e+00\n",
      "   0.00000000e+00  6.10000000e+01  9.00000000e+01  0.00000000e+00\n",
      "   6.60000000e+01  4.80000000e+01]\n",
      " [ 5.25773196e-01  9.80000000e+01  4.00000000e+00  0.00000000e+00\n",
      "   6.10000000e+01 -3.20721649e+01 -4.73195876e+01  4.10000000e+01\n",
      "   6.32989691e+01  4.67628866e+01]\n",
      " [ 0.00000000e+00  0.00000000e+00  9.60000000e+01  6.60000000e+01\n",
      "   7.10000000e+01  0.00000000e+00  6.60000000e+01  7.90000000e+01\n",
      "   6.00000000e+01  0.00000000e+00]\n",
      " [ 9.27835052e-01  4.38775510e-01 -9.55782313e-01  1.55081633e+02\n",
      "   1.23095238e+02  4.54745424e+01  4.63391542e+01  1.30517007e+02\n",
      "  -3.16642121e+01 -6.50544919e+01]\n",
      " [ 9.48453608e-01  6.63265306e-01 -1.63052721e-01  3.33769246e-01\n",
      "  -6.99678453e+01  3.32386805e+01  3.73195111e+01  2.21247245e+01\n",
      "  -8.42302448e+01  2.51712152e+01]\n",
      " [ 9.69072165e-01  0.00000000e+00 -5.62500000e-01  8.58418871e-01\n",
      "   9.39428319e-01 -6.13749651e+01 -4.29289048e+01 -8.83853543e+01\n",
      "   7.61006716e+01 -1.43180128e+01]\n",
      " [ 6.80412371e-01  0.00000000e+00 -6.87500000e-01  5.89205817e-01\n",
      "  -7.32966258e-01 -5.71304792e-01  5.16630407e+01  6.13282041e+00\n",
      "  -3.26172749e+00  1.59403933e+01]\n",
      " [ 0.00000000e+00  8.67346939e-01 -3.61394558e-02  5.57030530e-01\n",
      "   4.13190767e-01 -9.24694126e-01  6.67773246e-01 -1.04374648e+02\n",
      "   1.71255231e+02  4.03928273e+01]\n",
      " [ 0.00000000e+00  0.00000000e+00  8.75000000e-01  1.95058560e-01\n",
      "   3.73539871e-01  3.46821724e-01  3.70855111e-01  7.13471655e-01\n",
      "  -1.62229760e+02  1.55220672e+01]\n",
      " [ 7.31958763e-01  6.02040816e-01  6.16496599e-03 -2.62370049e-03\n",
      "   5.26516676e-01  6.96084145e-01  8.81858894e-01 -7.63001920e-01\n",
      "  -2.34542627e-01 -4.63411797e+01]]\n",
      "[6 2 9 9 7 7 7 8 9 9]\n"
     ]
    }
   ],
   "source": [
    "LU,P=scipy.linalg.lu_factor(b)\n",
    "print(LU)\n",
    "print(P)"
   ]
  },
  {
   "cell_type": "code",
   "execution_count": 348,
   "metadata": {},
   "outputs": [
    {
     "name": "stdout",
     "output_type": "stream",
     "text": [
      "[[ 6. +0.j        -1.5+0.8660254j -1.5-0.8660254j]\n",
      " [15. +0.j        -1.5+0.8660254j -1.5-0.8660254j]]\n"
     ]
    }
   ],
   "source": [
    "print(np.fft.fft(a))"
   ]
  },
  {
   "cell_type": "code",
   "execution_count": 349,
   "metadata": {},
   "outputs": [
    {
     "name": "stdout",
     "output_type": "stream",
     "text": [
      "[[ 2. +0.j         -0.5-0.28867513j -0.5+0.28867513j]\n",
      " [ 5. +0.j         -0.5-0.28867513j -0.5+0.28867513j]]\n"
     ]
    }
   ],
   "source": [
    "print(np.fft.ifft(a))"
   ]
  },
  {
   "cell_type": "code",
   "execution_count": 353,
   "metadata": {},
   "outputs": [
    {
     "name": "stdout",
     "output_type": "stream",
     "text": [
      "[[1. 2. 3.]\n",
      " [4. 5. 6.]]\n"
     ]
    }
   ],
   "source": [
    "print(np.sort(a))"
   ]
  },
  {
   "cell_type": "code",
   "execution_count": 354,
   "metadata": {},
   "outputs": [
    {
     "name": "stdout",
     "output_type": "stream",
     "text": [
      "[0 1]\n",
      "[[1. 2. 3.]\n",
      " [4. 5. 6.]]\n"
     ]
    }
   ],
   "source": [
    "I = np.argsort(a[:,1])\n",
    "b=a[I,:]\n",
    "print(I)\n",
    "print(b)"
   ]
  },
  {
   "cell_type": "code",
   "execution_count": 355,
   "metadata": {},
   "outputs": [
    {
     "name": "stderr",
     "output_type": "stream",
     "text": [
      "/Users/aidancurtis/anaconda3/lib/python3.6/site-packages/ipykernel_launcher.py:1: FutureWarning: `rcond` parameter will change to the default of machine precision times ``max(M, N)`` where M and N are the input matrix dimensions.\n",
      "To use the future default and silence this warning we advise to pass `rcond=None`, to keep using the old, explicitly pass `rcond=-1`.\n",
      "  \"\"\"Entry point for launching an IPython kernel.\n"
     ]
    },
    {
     "data": {
      "text/plain": [
       "(array([[-0.24337083,  0.8655445 ],\n",
       "        [ 0.79103612,  0.41997788]]),\n",
       " array([6923.70721049,  145.62243263]),\n",
       " 2,\n",
       " array([132.21444075,  47.85751412]))"
      ]
     },
     "execution_count": 355,
     "metadata": {},
     "output_type": "execute_result"
    }
   ],
   "source": [
    "np.linalg.lstsq(c,d)"
   ]
  },
  {
   "cell_type": "code",
   "execution_count": 367,
   "metadata": {},
   "outputs": [
    {
     "ename": "AttributeError",
     "evalue": "module 'scipy' has no attribute 'signal'",
     "output_type": "error",
     "traceback": [
      "\u001b[0;31m---------------------------------------------------------------------------\u001b[0m",
      "\u001b[0;31mAttributeError\u001b[0m                            Traceback (most recent call last)",
      "\u001b[0;32m<ipython-input-367-c85b24e98750>\u001b[0m in \u001b[0;36m<module>\u001b[0;34m()\u001b[0m\n\u001b[0;32m----> 1\u001b[0;31m \u001b[0mprint\u001b[0m\u001b[0;34m(\u001b[0m\u001b[0mscipy\u001b[0m\u001b[0;34m.\u001b[0m\u001b[0msignal\u001b[0m\u001b[0;34m.\u001b[0m\u001b[0mresample\u001b[0m\u001b[0;34m(\u001b[0m\u001b[0mx\u001b[0m\u001b[0;34m,\u001b[0m \u001b[0mlen\u001b[0m\u001b[0;34m(\u001b[0m\u001b[0mx\u001b[0m\u001b[0;34m)\u001b[0m\u001b[0;34m/\u001b[0m\u001b[0mq\u001b[0m\u001b[0;34m)\u001b[0m\u001b[0;34m)\u001b[0m\u001b[0;34m\u001b[0m\u001b[0m\n\u001b[0m",
      "\u001b[0;31mAttributeError\u001b[0m: module 'scipy' has no attribute 'signal'"
     ]
    }
   ],
   "source": [
    "print(scipy.signal.resample(x, len(x)/q))"
   ]
  },
  {
   "cell_type": "code",
   "execution_count": 363,
   "metadata": {},
   "outputs": [
    {
     "name": "stdout",
     "output_type": "stream",
     "text": [
      "[1. 2. 3. 4. 5. 6.]\n"
     ]
    }
   ],
   "source": [
    "print(unique(a))"
   ]
  },
  {
   "cell_type": "code",
   "execution_count": 364,
   "metadata": {},
   "outputs": [
    {
     "name": "stdout",
     "output_type": "stream",
     "text": [
      "[[1. 2. 3.]\n",
      " [4. 5. 6.]]\n"
     ]
    }
   ],
   "source": [
    "print(a.squeeze())"
   ]
  },
  {
   "cell_type": "code",
   "execution_count": null,
   "metadata": {},
   "outputs": [],
   "source": []
  }
 ],
 "metadata": {
  "celltoolbar": "Edit Metadata",
  "kernelspec": {
   "display_name": "Python 3",
   "language": "python",
   "name": "python3"
  },
  "language_info": {
   "codemirror_mode": {
    "name": "ipython",
    "version": 3
   },
   "file_extension": ".py",
   "mimetype": "text/x-python",
   "name": "python",
   "nbconvert_exporter": "python",
   "pygments_lexer": "ipython3",
   "version": "3.6.4"
  }
 },
 "nbformat": 4,
 "nbformat_minor": 2
}
