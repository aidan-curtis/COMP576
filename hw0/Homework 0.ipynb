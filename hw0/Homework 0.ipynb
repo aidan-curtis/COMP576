{
 "cells": [
  {
   "cell_type": "markdown",
   "metadata": {},
   "source": [
    "# Task 1\n",
    "```\n",
    ">> conda list\n",
    "\n",
    "     active environment : None\n",
    "       user config file : /Users/aidancurtis/.condarc\n",
    " populated config files : /Users/aidancurtis/.condarc\n",
    "          conda version : 4.4.10\n",
    "    conda-build version : 3.4.1\n",
    "         python version : 3.6.4.final.0\n",
    "       base environment : /Users/aidancurtis/anaconda3  (writable)\n",
    "           channel URLs : https://repo.continuum.io/pkgs/main/osx-64\n",
    "                          https://repo.continuum.io/pkgs/main/noarch\n",
    "                          https://repo.continuum.io/pkgs/free/osx-64\n",
    "                          https://repo.continuum.io/pkgs/free/noarch\n",
    "                          https://repo.continuum.io/pkgs/r/osx-64\n",
    "                          https://repo.continuum.io/pkgs/r/noarch\n",
    "                          https://repo.continuum.io/pkgs/pro/osx-64\n",
    "                          https://repo.continuum.io/pkgs/pro/noarch\n",
    "          package cache : /Users/aidancurtis/anaconda3/pkgs\n",
    "                          /Users/aidancurtis/.conda/pkgs\n",
    "       envs directories : /Users/aidancurtis/anaconda3/envs\n",
    "                          /Users/aidancurtis/.conda/envs\n",
    "               platform : osx-64\n",
    "             user-agent : conda/4.4.10 requests/2.18.4 CPython/3.6.4 Darwin/17.7.0 OSX/10.13.6\n",
    "                UID:GID : 501:20\n",
    "             netrc file : /Users/aidancurtis/.netrc\n",
    "           offline mode : False\n",
    "           ```"
   ]
  },
  {
   "cell_type": "markdown",
   "metadata": {},
   "source": [
    "# Task 2"
   ]
  },
  {
   "cell_type": "code",
   "execution_count": 370,
   "metadata": {},
   "outputs": [],
   "source": [
    "import numpy as np\n",
    "import scipy.linalg\n",
    "import scipy"
   ]
  },
  {
   "cell_type": "code",
   "execution_count": 371,
   "metadata": {},
   "outputs": [
    {
     "name": "stdout",
     "output_type": "stream",
     "text": [
      "[[1. 2. 3.]\n",
      " [4. 5. 6.]]\n"
     ]
    }
   ],
   "source": [
    "a = np.array([[1.,2.,3.], [4.,5.,6.]])\n",
    "print(a)"
   ]
  },
  {
   "cell_type": "code",
   "execution_count": 372,
   "metadata": {},
   "outputs": [
    {
     "name": "stdout",
     "output_type": "stream",
     "text": [
      "2\n"
     ]
    }
   ],
   "source": [
    "print(np.ndim(a))"
   ]
  },
  {
   "cell_type": "code",
   "execution_count": 373,
   "metadata": {},
   "outputs": [
    {
     "name": "stdout",
     "output_type": "stream",
     "text": [
      "6\n"
     ]
    }
   ],
   "source": [
    "print(np.size(a))"
   ]
  },
  {
   "cell_type": "code",
   "execution_count": 374,
   "metadata": {},
   "outputs": [
    {
     "name": "stdout",
     "output_type": "stream",
     "text": [
      "(2, 3)\n"
     ]
    }
   ],
   "source": [
    "print(np.shape(a))"
   ]
  },
  {
   "cell_type": "code",
   "execution_count": 375,
   "metadata": {},
   "outputs": [
    {
     "name": "stdout",
     "output_type": "stream",
     "text": [
      "3\n"
     ]
    }
   ],
   "source": [
    "print(np.size(a,1))"
   ]
  },
  {
   "cell_type": "code",
   "execution_count": 376,
   "metadata": {},
   "outputs": [
    {
     "name": "stdout",
     "output_type": "stream",
     "text": [
      "[[ 1  2  3  4]\n",
      " [ 5  6  7  8]\n",
      " [ 9 10 11 12]\n",
      " [13 14 14 15]]\n"
     ]
    }
   ],
   "source": [
    "ai = np.array([[1,2],[5,6]])\n",
    "bi = np.array([[3,4],[7,8]])\n",
    "ci = np.array([[9,10], [13,14]])\n",
    "di = np.array([[11,12], [14,15]])\n",
    "print(np.block([[ai,bi], [ci,di]]))"
   ]
  },
  {
   "cell_type": "code",
   "execution_count": 377,
   "metadata": {},
   "outputs": [
    {
     "name": "stdout",
     "output_type": "stream",
     "text": [
      "[4. 5. 6.]\n"
     ]
    }
   ],
   "source": [
    "print(a[-1])"
   ]
  },
  {
   "cell_type": "code",
   "execution_count": 378,
   "metadata": {},
   "outputs": [
    {
     "name": "stdout",
     "output_type": "stream",
     "text": [
      "[[65 61 29 86 70 81  2 37 66 11]\n",
      " [64 80 54 15  8 53 23 80 90 36]\n",
      " [ 7 30 87 54 78 83 54 32 17 62]\n",
      " [ 6 84 69 15 97 81  1 69 81 94]\n",
      " [94 81 81 54 59 10 35 26 19 54]\n",
      " [62 88 25 33 61 15 14 18  1 82]\n",
      " [35  6 82 97  3 47 17 95 63 14]\n",
      " [62 29 94 49 81 32 37  8 34 47]\n",
      " [59 56 63 68  6 58 97 60 35 17]\n",
      " [ 1 54 41 75 23 12 22 43  2 18]]\n"
     ]
    }
   ],
   "source": [
    "b = (np.random.rand(10, 10)*100).astype(int)\n",
    "print(b)"
   ]
  },
  {
   "cell_type": "code",
   "execution_count": 379,
   "metadata": {},
   "outputs": [
    {
     "name": "stdout",
     "output_type": "stream",
     "text": [
      "[64 80 54 15  8 53 23 80 90 36]\n"
     ]
    }
   ],
   "source": [
    "print(b[1, :])"
   ]
  },
  {
   "cell_type": "code",
   "execution_count": 380,
   "metadata": {},
   "outputs": [
    {
     "name": "stdout",
     "output_type": "stream",
     "text": [
      "[[62 88 25 33 61 15 14 18  1 82]\n",
      " [35  6 82 97  3 47 17 95 63 14]\n",
      " [62 29 94 49 81 32 37  8 34 47]\n",
      " [59 56 63 68  6 58 97 60 35 17]\n",
      " [ 1 54 41 75 23 12 22 43  2 18]]\n"
     ]
    }
   ],
   "source": [
    "print(b[-5:])"
   ]
  },
  {
   "cell_type": "code",
   "execution_count": 381,
   "metadata": {},
   "outputs": [
    {
     "name": "stdout",
     "output_type": "stream",
     "text": [
      "[[70 81  2 37 66]\n",
      " [ 8 53 23 80 90]\n",
      " [78 83 54 32 17]]\n"
     ]
    }
   ],
   "source": [
    "print(b[0:3][:,4:9])"
   ]
  },
  {
   "cell_type": "code",
   "execution_count": 382,
   "metadata": {},
   "outputs": [
    {
     "name": "stdout",
     "output_type": "stream",
     "text": [
      "[[64 54]\n",
      " [ 6 69]\n",
      " [94 81]]\n"
     ]
    }
   ],
   "source": [
    "print(b[np.ix_([1,3,4],[0,2])])"
   ]
  },
  {
   "cell_type": "code",
   "execution_count": 383,
   "metadata": {},
   "outputs": [
    {
     "name": "stdout",
     "output_type": "stream",
     "text": [
      "[[ 7 30 87 54 78 83 54 32 17 62]\n",
      " [94 81 81 54 59 10 35 26 19 54]\n",
      " [35  6 82 97  3 47 17 95 63 14]\n",
      " [59 56 63 68  6 58 97 60 35 17]]\n"
     ]
    }
   ],
   "source": [
    "print(b[ 2:21:2,:])"
   ]
  },
  {
   "cell_type": "code",
   "execution_count": 384,
   "metadata": {},
   "outputs": [
    {
     "name": "stdout",
     "output_type": "stream",
     "text": [
      "[[65 61 29 86 70 81  2 37 66 11]\n",
      " [ 7 30 87 54 78 83 54 32 17 62]\n",
      " [94 81 81 54 59 10 35 26 19 54]\n",
      " [35  6 82 97  3 47 17 95 63 14]\n",
      " [59 56 63 68  6 58 97 60 35 17]]\n"
     ]
    }
   ],
   "source": [
    "print(b[ ::2,:])"
   ]
  },
  {
   "cell_type": "code",
   "execution_count": 385,
   "metadata": {},
   "outputs": [
    {
     "name": "stdout",
     "output_type": "stream",
     "text": [
      "[[ 1 54 41 75 23 12 22 43  2 18]\n",
      " [59 56 63 68  6 58 97 60 35 17]\n",
      " [62 29 94 49 81 32 37  8 34 47]\n",
      " [35  6 82 97  3 47 17 95 63 14]\n",
      " [62 88 25 33 61 15 14 18  1 82]\n",
      " [94 81 81 54 59 10 35 26 19 54]\n",
      " [ 6 84 69 15 97 81  1 69 81 94]\n",
      " [ 7 30 87 54 78 83 54 32 17 62]\n",
      " [64 80 54 15  8 53 23 80 90 36]\n",
      " [65 61 29 86 70 81  2 37 66 11]]\n"
     ]
    }
   ],
   "source": [
    "print(b[ ::-1,:])"
   ]
  },
  {
   "cell_type": "code",
   "execution_count": 386,
   "metadata": {},
   "outputs": [
    {
     "name": "stdout",
     "output_type": "stream",
     "text": [
      "[[65 61 29 86 70 81  2 37 66 11]\n",
      " [64 80 54 15  8 53 23 80 90 36]\n",
      " [ 7 30 87 54 78 83 54 32 17 62]\n",
      " [ 6 84 69 15 97 81  1 69 81 94]\n",
      " [94 81 81 54 59 10 35 26 19 54]\n",
      " [62 88 25 33 61 15 14 18  1 82]\n",
      " [35  6 82 97  3 47 17 95 63 14]\n",
      " [62 29 94 49 81 32 37  8 34 47]\n",
      " [59 56 63 68  6 58 97 60 35 17]\n",
      " [ 1 54 41 75 23 12 22 43  2 18]\n",
      " [65 61 29 86 70 81  2 37 66 11]]\n"
     ]
    }
   ],
   "source": [
    "print(b[np.r_[:len(b),0]])"
   ]
  },
  {
   "cell_type": "code",
   "execution_count": 387,
   "metadata": {},
   "outputs": [
    {
     "name": "stdout",
     "output_type": "stream",
     "text": [
      "[[1. 4.]\n",
      " [2. 5.]\n",
      " [3. 6.]]\n"
     ]
    }
   ],
   "source": [
    "print(a.T)"
   ]
  },
  {
   "cell_type": "code",
   "execution_count": 388,
   "metadata": {},
   "outputs": [
    {
     "name": "stdout",
     "output_type": "stream",
     "text": [
      "[[1. 4.]\n",
      " [2. 5.]\n",
      " [3. 6.]]\n"
     ]
    }
   ],
   "source": [
    "print(a.conj().transpose())"
   ]
  },
  {
   "cell_type": "code",
   "execution_count": 389,
   "metadata": {},
   "outputs": [
    {
     "name": "stdout",
     "output_type": "stream",
     "text": [
      "[[76 87]\n",
      " [43  1]\n",
      " [ 0 88]]\n",
      "[[72 70]\n",
      " [97 78]\n",
      " [92 28]]\n"
     ]
    }
   ],
   "source": [
    "c = (np.random.rand(3, 2)*100).astype(int)\n",
    "d = (np.random.rand(3, 2)*100).astype(int)\n",
    "print(c)\n",
    "print(d)"
   ]
  },
  {
   "cell_type": "code",
   "execution_count": 390,
   "metadata": {},
   "outputs": [
    {
     "name": "stdout",
     "output_type": "stream",
     "text": [
      "[[162. 353.]\n",
      " [519. 881.]]\n"
     ]
    }
   ],
   "source": [
    "print(a@c)"
   ]
  },
  {
   "cell_type": "code",
   "execution_count": 391,
   "metadata": {},
   "outputs": [
    {
     "name": "stdout",
     "output_type": "stream",
     "text": [
      "[[5472 6090]\n",
      " [4171   78]\n",
      " [   0 2464]]\n"
     ]
    }
   ],
   "source": [
    "print(c*d)"
   ]
  },
  {
   "cell_type": "code",
   "execution_count": 392,
   "metadata": {},
   "outputs": [
    {
     "name": "stdout",
     "output_type": "stream",
     "text": [
      "[[1.05555556 1.24285714]\n",
      " [0.44329897 0.01282051]\n",
      " [0.         3.14285714]]\n"
     ]
    }
   ],
   "source": [
    "print(c/d)"
   ]
  },
  {
   "cell_type": "code",
   "execution_count": 393,
   "metadata": {},
   "outputs": [
    {
     "name": "stdout",
     "output_type": "stream",
     "text": [
      "[[  1.   8.  27.]\n",
      " [ 64. 125. 216.]]\n"
     ]
    }
   ],
   "source": [
    "print(a**3)"
   ]
  },
  {
   "cell_type": "code",
   "execution_count": 394,
   "metadata": {},
   "outputs": [
    {
     "name": "stdout",
     "output_type": "stream",
     "text": [
      "[[ True  True  True]\n",
      " [ True  True  True]]\n"
     ]
    }
   ],
   "source": [
    "print((a>0.5))"
   ]
  },
  {
   "cell_type": "code",
   "execution_count": 395,
   "metadata": {},
   "outputs": [
    {
     "name": "stdout",
     "output_type": "stream",
     "text": [
      "(array([0, 0, 0, 1, 1, 1]), array([0, 1, 2, 0, 1, 2]))\n"
     ]
    }
   ],
   "source": [
    "print(np.nonzero(a>0.5))"
   ]
  },
  {
   "cell_type": "code",
   "execution_count": 396,
   "metadata": {},
   "outputs": [
    {
     "name": "stdout",
     "output_type": "stream",
     "text": [
      "[[2. 3.]\n",
      " [5. 6.]]\n"
     ]
    }
   ],
   "source": [
    "v = np.array([0,1,0.6])\n",
    "print(a[:,np.nonzero(v>0.5)[0]])"
   ]
  },
  {
   "cell_type": "code",
   "execution_count": 397,
   "metadata": {},
   "outputs": [
    {
     "name": "stdout",
     "output_type": "stream",
     "text": [
      "[[2. 3.]\n",
      " [5. 6.]]\n"
     ]
    }
   ],
   "source": [
    "print(a[:,v.T>0.5])"
   ]
  },
  {
   "cell_type": "code",
   "execution_count": 398,
   "metadata": {},
   "outputs": [
    {
     "name": "stdout",
     "output_type": "stream",
     "text": [
      "[[65 61  0 86 70 81  0  0 66  0]\n",
      " [64 80 54  0  0 53  0 80 90  0]\n",
      " [ 0  0 87 54 78 83 54  0  0 62]\n",
      " [ 0 84 69  0 97 81  0 69 81 94]\n",
      " [94 81 81 54 59  0  0  0  0 54]\n",
      " [62 88  0  0 61  0  0  0  0 82]\n",
      " [ 0  0 82 97  0 47  0 95 63  0]\n",
      " [62  0 94 49 81  0  0  0  0 47]\n",
      " [59 56 63 68  0 58 97 60  0  0]\n",
      " [ 0 54 41 75  0  0  0 43  0  0]]\n"
     ]
    }
   ],
   "source": [
    "b[b<40]=0\n",
    "print(b)"
   ]
  },
  {
   "cell_type": "code",
   "execution_count": 399,
   "metadata": {},
   "outputs": [
    {
     "name": "stdout",
     "output_type": "stream",
     "text": [
      "[[0. 0. 0.]\n",
      " [0. 0. 6.]]\n"
     ]
    }
   ],
   "source": [
    "print(a * (a>5))"
   ]
  },
  {
   "cell_type": "code",
   "execution_count": 400,
   "metadata": {},
   "outputs": [
    {
     "name": "stdout",
     "output_type": "stream",
     "text": [
      "[[3. 3. 3.]\n",
      " [3. 3. 3.]]\n"
     ]
    }
   ],
   "source": [
    "a[:] = 3\n",
    "print(a)"
   ]
  },
  {
   "cell_type": "code",
   "execution_count": 401,
   "metadata": {},
   "outputs": [
    {
     "name": "stdout",
     "output_type": "stream",
     "text": [
      "[[36 89 78 57 67 19 71 94 60 24]\n",
      " [81 18 71 71  2  8 95 56 42 32]\n",
      " [44 83 66 18  5 91 30 43 18 74]\n",
      " [98 95 68 62 14 78 27 77 76 17]\n",
      " [97 76 57 57 24 58 84 39  9 35]\n",
      " [71 35 48 26 65 23 27 68 21 75]\n",
      " [58 23  4 20 62 65 60 17 86  3]\n",
      " [51  9 62  7  6 51 56 23 76 34]\n",
      " [79 80 71 50 19 76 15 19 45 33]\n",
      " [93 51 52 20 88 89 75 28 32 65]]\n",
      "[[36 89 78 57 67 19 71 94 60 24]\n",
      " [81 18 71 71  2  8 95 56 42 32]\n",
      " [44 83 66 18  5 91 30 43 18 74]\n",
      " [98 95 68 62 14 78 27 77 76 17]\n",
      " [97 76 57 57 24 58 84 39  9 35]\n",
      " [71 35 48 26 65 23 27 68 21 75]\n",
      " [58 23  4 20 62 65 60 17 86  3]\n",
      " [51  9 62  7  6 51 56 23 76 34]\n",
      " [79 80 71 50 19 76 15 19 45 33]\n",
      " [93 51 52 20 88 89 75 28 32 65]]\n",
      "[81 18 71 71  2  8 95 56 42 32]\n",
      "[36 89 78 57 67 19 71 94 60 24 81 18 71 71  2  8 95 56 42 32 44 83 66 18\n",
      "  5 91 30 43 18 74 98 95 68 62 14 78 27 77 76 17 97 76 57 57 24 58 84 39\n",
      "  9 35 71 35 48 26 65 23 27 68 21 75 58 23  4 20 62 65 60 17 86  3 51  9\n",
      " 62  7  6 51 56 23 76 34 79 80 71 50 19 76 15 19 45 33 93 51 52 20 88 89\n",
      " 75 28 32 65]\n",
      "[ 1.  2.  3.  4.  5.  6.  7.  8.  9. 10.]\n"
     ]
    }
   ],
   "source": [
    "x = (np.random.rand(10,10)*100).astype(int)\n",
    "y = x.copy()\n",
    "print(x)\n",
    "print(y)\n",
    "y = x[1,:].copy()\n",
    "print(y)\n",
    "y = x.flatten()\n",
    "print(y)\n",
    "print(np.arange(1.,11.))"
   ]
  },
  {
   "cell_type": "code",
   "execution_count": 402,
   "metadata": {},
   "outputs": [
    {
     "name": "stdout",
     "output_type": "stream",
     "text": [
      "[0. 1. 2. 3. 4. 5. 6. 7. 8. 9.]\n"
     ]
    }
   ],
   "source": [
    "print(np.arange(10.))"
   ]
  },
  {
   "cell_type": "code",
   "execution_count": 403,
   "metadata": {},
   "outputs": [
    {
     "data": {
      "text/plain": [
       "array([[ 1.],\n",
       "       [ 2.],\n",
       "       [ 3.],\n",
       "       [ 4.],\n",
       "       [ 5.],\n",
       "       [ 6.],\n",
       "       [ 7.],\n",
       "       [ 8.],\n",
       "       [ 9.],\n",
       "       [10.]])"
      ]
     },
     "execution_count": 403,
     "metadata": {},
     "output_type": "execute_result"
    }
   ],
   "source": [
    "np.arange(1.,11.)[:, np.newaxis]"
   ]
  },
  {
   "cell_type": "code",
   "execution_count": 404,
   "metadata": {},
   "outputs": [
    {
     "name": "stdout",
     "output_type": "stream",
     "text": [
      "[[0. 0. 0. 0.]\n",
      " [0. 0. 0. 0.]\n",
      " [0. 0. 0. 0.]]\n"
     ]
    }
   ],
   "source": [
    "print(np.zeros((3,4)))"
   ]
  },
  {
   "cell_type": "code",
   "execution_count": 405,
   "metadata": {},
   "outputs": [
    {
     "name": "stdout",
     "output_type": "stream",
     "text": [
      "[[[0. 0. 0. 0. 0.]\n",
      "  [0. 0. 0. 0. 0.]\n",
      "  [0. 0. 0. 0. 0.]\n",
      "  [0. 0. 0. 0. 0.]]\n",
      "\n",
      " [[0. 0. 0. 0. 0.]\n",
      "  [0. 0. 0. 0. 0.]\n",
      "  [0. 0. 0. 0. 0.]\n",
      "  [0. 0. 0. 0. 0.]]\n",
      "\n",
      " [[0. 0. 0. 0. 0.]\n",
      "  [0. 0. 0. 0. 0.]\n",
      "  [0. 0. 0. 0. 0.]\n",
      "  [0. 0. 0. 0. 0.]]]\n"
     ]
    }
   ],
   "source": [
    "print(np.zeros((3,4,5)))"
   ]
  },
  {
   "cell_type": "code",
   "execution_count": 406,
   "metadata": {},
   "outputs": [
    {
     "name": "stdout",
     "output_type": "stream",
     "text": [
      "[[1. 1. 1. 1.]\n",
      " [1. 1. 1. 1.]\n",
      " [1. 1. 1. 1.]]\n"
     ]
    }
   ],
   "source": [
    "print(np.ones((3,4)))"
   ]
  },
  {
   "cell_type": "code",
   "execution_count": 407,
   "metadata": {},
   "outputs": [
    {
     "name": "stdout",
     "output_type": "stream",
     "text": [
      "[[1. 0. 0.]\n",
      " [0. 1. 0.]\n",
      " [0. 0. 1.]]\n"
     ]
    }
   ],
   "source": [
    "print(np.eye(3))"
   ]
  },
  {
   "cell_type": "code",
   "execution_count": 408,
   "metadata": {},
   "outputs": [
    {
     "name": "stdout",
     "output_type": "stream",
     "text": [
      "[3. 3.]\n"
     ]
    }
   ],
   "source": [
    "print(np.diag(a))"
   ]
  },
  {
   "cell_type": "code",
   "execution_count": 409,
   "metadata": {},
   "outputs": [
    {
     "name": "stdout",
     "output_type": "stream",
     "text": [
      "[3. 3.]\n"
     ]
    }
   ],
   "source": [
    "print(np.diag(a,0))"
   ]
  },
  {
   "cell_type": "code",
   "execution_count": 410,
   "metadata": {},
   "outputs": [
    {
     "name": "stdout",
     "output_type": "stream",
     "text": [
      "[[0.8671586  0.94197865 0.4243342  0.95954856]\n",
      " [0.85319904 0.61033122 0.05324584 0.24913013]\n",
      " [0.91770507 0.24973609 0.1948976  0.74173103]]\n"
     ]
    }
   ],
   "source": [
    "print(np.random.rand(3,4))"
   ]
  },
  {
   "cell_type": "code",
   "execution_count": 411,
   "metadata": {},
   "outputs": [
    {
     "name": "stdout",
     "output_type": "stream",
     "text": [
      "[1.         1.66666667 2.33333333 3.        ]\n"
     ]
    }
   ],
   "source": [
    "print(np.linspace(1,3,4))"
   ]
  },
  {
   "cell_type": "code",
   "execution_count": 412,
   "metadata": {},
   "outputs": [
    {
     "name": "stdout",
     "output_type": "stream",
     "text": [
      "[[[0. 0. 0. 0. 0. 0.]\n",
      "  [1. 1. 1. 1. 1. 1.]\n",
      "  [2. 2. 2. 2. 2. 2.]\n",
      "  [3. 3. 3. 3. 3. 3.]\n",
      "  [4. 4. 4. 4. 4. 4.]\n",
      "  [5. 5. 5. 5. 5. 5.]\n",
      "  [6. 6. 6. 6. 6. 6.]\n",
      "  [7. 7. 7. 7. 7. 7.]\n",
      "  [8. 8. 8. 8. 8. 8.]]\n",
      "\n",
      " [[0. 1. 2. 3. 4. 5.]\n",
      "  [0. 1. 2. 3. 4. 5.]\n",
      "  [0. 1. 2. 3. 4. 5.]\n",
      "  [0. 1. 2. 3. 4. 5.]\n",
      "  [0. 1. 2. 3. 4. 5.]\n",
      "  [0. 1. 2. 3. 4. 5.]\n",
      "  [0. 1. 2. 3. 4. 5.]\n",
      "  [0. 1. 2. 3. 4. 5.]\n",
      "  [0. 1. 2. 3. 4. 5.]]]\n"
     ]
    }
   ],
   "source": [
    "print(np.mgrid[0:9.,0:6.])"
   ]
  },
  {
   "cell_type": "code",
   "execution_count": 413,
   "metadata": {},
   "outputs": [
    {
     "name": "stdout",
     "output_type": "stream",
     "text": [
      "[array([[0.],\n",
      "       [1.],\n",
      "       [2.],\n",
      "       [3.],\n",
      "       [4.],\n",
      "       [5.],\n",
      "       [6.],\n",
      "       [7.],\n",
      "       [8.]]), array([[0., 1., 2., 3., 4., 5.]])]\n"
     ]
    }
   ],
   "source": [
    "print(np.ogrid[0:9.,0:6.])"
   ]
  },
  {
   "cell_type": "code",
   "execution_count": 414,
   "metadata": {},
   "outputs": [
    {
     "name": "stdout",
     "output_type": "stream",
     "text": [
      "[array([[1, 2, 4],\n",
      "       [1, 2, 4],\n",
      "       [1, 2, 4]]), array([[2, 2, 2],\n",
      "       [4, 4, 4],\n",
      "       [5, 5, 5]])]\n"
     ]
    }
   ],
   "source": [
    "print(np.meshgrid([1,2,4],[2,4,5]))"
   ]
  },
  {
   "cell_type": "code",
   "execution_count": 415,
   "metadata": {},
   "outputs": [
    {
     "name": "stdout",
     "output_type": "stream",
     "text": [
      "(array([[1],\n",
      "       [2],\n",
      "       [4]]), array([[2, 4, 5]]))\n"
     ]
    }
   ],
   "source": [
    "print(np.ix_([1,2,4],[2,4,5]))"
   ]
  },
  {
   "cell_type": "code",
   "execution_count": 416,
   "metadata": {},
   "outputs": [
    {
     "name": "stdout",
     "output_type": "stream",
     "text": [
      "[[3. 3. 3. 3. 3. 3. 3. 3. 3.]\n",
      " [3. 3. 3. 3. 3. 3. 3. 3. 3.]\n",
      " [3. 3. 3. 3. 3. 3. 3. 3. 3.]\n",
      " [3. 3. 3. 3. 3. 3. 3. 3. 3.]\n",
      " [3. 3. 3. 3. 3. 3. 3. 3. 3.]\n",
      " [3. 3. 3. 3. 3. 3. 3. 3. 3.]\n",
      " [3. 3. 3. 3. 3. 3. 3. 3. 3.]\n",
      " [3. 3. 3. 3. 3. 3. 3. 3. 3.]]\n"
     ]
    }
   ],
   "source": [
    "print(np.tile(a, (4, 3)))"
   ]
  },
  {
   "cell_type": "code",
   "execution_count": 417,
   "metadata": {},
   "outputs": [
    {
     "name": "stdout",
     "output_type": "stream",
     "text": [
      "[[76 87 72 70]\n",
      " [43  1 97 78]\n",
      " [ 0 88 92 28]]\n"
     ]
    }
   ],
   "source": [
    "print(np.concatenate((c,d),1))"
   ]
  },
  {
   "cell_type": "code",
   "execution_count": 418,
   "metadata": {},
   "outputs": [
    {
     "name": "stdout",
     "output_type": "stream",
     "text": [
      "3.0\n"
     ]
    }
   ],
   "source": [
    "print(a.max())"
   ]
  },
  {
   "cell_type": "code",
   "execution_count": 419,
   "metadata": {},
   "outputs": [
    {
     "name": "stdout",
     "output_type": "stream",
     "text": [
      "[3. 3. 3.]\n",
      "[3. 3.]\n"
     ]
    }
   ],
   "source": [
    "print(a.max(0))\n",
    "print(a.max(1))"
   ]
  },
  {
   "cell_type": "code",
   "execution_count": 420,
   "metadata": {},
   "outputs": [
    {
     "name": "stdout",
     "output_type": "stream",
     "text": [
      "[[76 87]\n",
      " [97 78]\n",
      " [92 88]]\n"
     ]
    }
   ],
   "source": [
    "print(np.maximum(c, d))"
   ]
  },
  {
   "cell_type": "code",
   "execution_count": 421,
   "metadata": {},
   "outputs": [
    {
     "name": "stdout",
     "output_type": "stream",
     "text": [
      "1.16619037896906\n"
     ]
    }
   ],
   "source": [
    "print(np.linalg.norm(v))"
   ]
  },
  {
   "cell_type": "code",
   "execution_count": 422,
   "metadata": {},
   "outputs": [
    {
     "name": "stdout",
     "output_type": "stream",
     "text": [
      "[[ True  True]\n",
      " [ True  True]\n",
      " [False  True]]\n"
     ]
    }
   ],
   "source": [
    "print(np.logical_and(c,d))"
   ]
  },
  {
   "cell_type": "code",
   "execution_count": 423,
   "metadata": {},
   "outputs": [
    {
     "name": "stdout",
     "output_type": "stream",
     "text": [
      "[[ True  True]\n",
      " [ True  True]\n",
      " [False  True]]\n"
     ]
    }
   ],
   "source": [
    "print(np.logical_and(c,d))"
   ]
  },
  {
   "cell_type": "code",
   "execution_count": 424,
   "metadata": {},
   "outputs": [
    {
     "name": "stdout",
     "output_type": "stream",
     "text": [
      "[[72 70]\n",
      " [33  0]\n",
      " [ 0 24]]\n"
     ]
    }
   ],
   "source": [
    "print(c&d)"
   ]
  },
  {
   "cell_type": "code",
   "execution_count": 425,
   "metadata": {},
   "outputs": [
    {
     "name": "stdout",
     "output_type": "stream",
     "text": [
      "[[ 76  87]\n",
      " [107  79]\n",
      " [ 92  92]]\n"
     ]
    }
   ],
   "source": [
    "print(c|d)"
   ]
  },
  {
   "cell_type": "code",
   "execution_count": 426,
   "metadata": {},
   "outputs": [
    {
     "name": "stdout",
     "output_type": "stream",
     "text": [
      "[[-0.00187012  0.03576682  0.02449569 -0.03290806 -0.03995629  0.03314841\n",
      "  -0.00682592  0.02157647 -0.01363678  0.02037162]\n",
      " [ 0.00137597 -0.00810526 -0.00789835  0.01177366  0.01724485 -0.01280541\n",
      "  -0.00500012 -0.01060009  0.00439702  0.00109832]\n",
      " [-0.00342885 -0.00521311 -0.00286281  0.00876727  0.02119179 -0.01804265\n",
      "  -0.00023278 -0.00662742  0.00159373 -0.00607913]\n",
      " [ 0.00485893 -0.02764407 -0.01680007  0.01490704  0.03053757 -0.01474566\n",
      "   0.01523503 -0.01701152  0.00935261 -0.01919872]\n",
      " [ 0.00441207  0.01062758  0.0009923  -0.00195185 -0.03391163  0.00700015\n",
      "  -0.01729492  0.02934397 -0.00055241  0.02234029]\n",
      " [-0.00566492  0.08980699  0.07829844 -0.07391623 -0.10234859  0.07016262\n",
      "  -0.02732586  0.03972578 -0.04358882  0.0727197 ]\n",
      " [ 0.00683987 -0.08720489 -0.06946952  0.07167129  0.09921473 -0.06916417\n",
      "   0.02526405 -0.04502392  0.04898303 -0.07693009]\n",
      " [-0.00693347  0.06336573  0.04195095 -0.04914566 -0.09512565  0.05900386\n",
      "  -0.02007156  0.04930217 -0.02335414  0.06115904]\n",
      " [ 0.01166318 -0.11320196 -0.09207953  0.09488892  0.14519761 -0.09512988\n",
      "   0.04337149 -0.06916272  0.05126077 -0.10900271]\n",
      " [-0.00334481 -0.02625076 -0.01078303  0.01369854  0.03693113 -0.00433335\n",
      "   0.02339277 -0.02676726  0.00600292 -0.03320062]]\n"
     ]
    }
   ],
   "source": [
    "print(np.linalg.inv(b))"
   ]
  },
  {
   "cell_type": "code",
   "execution_count": 427,
   "metadata": {},
   "outputs": [
    {
     "name": "stdout",
     "output_type": "stream",
     "text": [
      "[[0.05555556 0.05555556]\n",
      " [0.05555556 0.05555556]\n",
      " [0.05555556 0.05555556]]\n"
     ]
    }
   ],
   "source": [
    "print(np.linalg.pinv(a))"
   ]
  },
  {
   "cell_type": "code",
   "execution_count": 428,
   "metadata": {},
   "outputs": [
    {
     "name": "stdout",
     "output_type": "stream",
     "text": [
      "1\n"
     ]
    }
   ],
   "source": [
    "print(np.linalg.matrix_rank(a))"
   ]
  },
  {
   "cell_type": "code",
   "execution_count": 429,
   "metadata": {},
   "outputs": [
    {
     "name": "stdout",
     "output_type": "stream",
     "text": [
      "[[ 1.00000000e+00 -1.51179305e-16  1.51179305e-16 -2.54749398e-16\n",
      "  -3.67149742e-16 -2.41936385e-16  9.42562944e-17  1.39507913e-16\n",
      "   8.03069462e-16 -3.72549003e-16]\n",
      " [-1.66306144e-16  1.00000000e+00  0.00000000e+00  1.20192454e-16\n",
      "   3.38353684e-16 -1.69176842e-16  1.68413874e-16  0.00000000e+00\n",
      "  -3.38353684e-16  1.69176842e-16]\n",
      " [-1.75291384e-16  6.47495485e-17  1.00000000e+00  0.00000000e+00\n",
      "   6.07414300e-17 -2.47063753e-16  1.74832740e-16 -1.05938576e-16\n",
      "  -2.75554816e-16  1.90307175e-16]\n",
      " [-2.25648357e-16  6.35750063e-19 -1.22119330e-16  1.00000000e+00\n",
      "   1.65302783e-16  6.61211134e-16 -4.13256959e-16 -1.13645664e-16\n",
      "  -3.30605567e-16  8.81399607e-17]\n",
      " [ 2.58240544e-16 -7.36487976e-17 -4.49948222e-17  3.70511467e-17\n",
      "   1.00000000e+00 -4.41720064e-16  3.43400315e-16  5.53698788e-17\n",
      "   1.28206534e-17  2.27997590e-17]\n",
      " [ 7.80803993e-16  1.53659477e-16  4.73122306e-16 -4.43214687e-16\n",
      "  -5.64537221e-16  1.00000000e+00  7.49334047e-16  5.18769725e-16\n",
      "   1.84451458e-15 -6.91692967e-16]\n",
      " [-8.11355199e-16 -1.72151492e-16 -5.15239633e-16  3.80086702e-16\n",
      "   6.39828447e-16  8.94566055e-16  1.00000000e+00 -5.57670689e-16\n",
      "  -1.89480169e-15  6.45795797e-16]\n",
      " [ 7.69560588e-16 -3.91320300e-17  2.96554261e-16 -3.24251449e-16\n",
      "  -7.00625919e-16 -6.67474541e-16  3.62772124e-16  1.00000000e+00\n",
      "   1.25710010e-15 -5.38757188e-16]\n",
      " [-1.16736920e-15 -1.40882275e-16 -5.86207236e-16  5.22779421e-16\n",
      "   9.82861430e-16  1.41241380e-15 -1.04943413e-15 -6.75938483e-16\n",
      "   1.00000000e+00  8.94571191e-16]\n",
      " [-2.20983087e-16 -5.45240495e-17 -2.67028680e-17  2.38136089e-17\n",
      "   3.80385576e-16  8.66918350e-16 -6.40885375e-16 -3.07902990e-17\n",
      "  -1.60475165e-16  1.00000000e+00]]\n"
     ]
    }
   ],
   "source": [
    "print(np.linalg.solve(b,b))"
   ]
  },
  {
   "cell_type": "code",
   "execution_count": 430,
   "metadata": {},
   "outputs": [
    {
     "name": "stdout",
     "output_type": "stream",
     "text": [
      "[[ 1.00000000e+00  0.00000000e+00  0.00000000e+00  3.66366106e-18\n",
      "   0.00000000e+00  6.70466726e-18  0.00000000e+00 -1.65242497e-16\n",
      "   0.00000000e+00  0.00000000e+00]\n",
      " [ 0.00000000e+00  1.00000000e+00  3.94745964e-16  1.57898386e-16\n",
      "   2.36847579e-16 -7.29285844e-17 -2.38821308e-15  1.89478063e-15\n",
      "   7.89491929e-17  1.73688224e-15]\n",
      " [ 0.00000000e+00  0.00000000e+00  1.00000000e+00  0.00000000e+00\n",
      "   1.84123245e-16 -2.08437413e-16 -1.64142578e-15  1.53617047e-15\n",
      "   0.00000000e+00  1.65428615e-15]\n",
      " [ 0.00000000e+00  0.00000000e+00 -3.19627653e-16  1.00000000e+00\n",
      "  -3.13044782e-16  0.00000000e+00  2.03479108e-15 -1.45761477e-15\n",
      "   0.00000000e+00 -1.40870152e-15]\n",
      " [ 0.00000000e+00  0.00000000e+00 -5.71651534e-16  8.70706297e-17\n",
      "   1.00000000e+00  1.70717665e-16  2.92314685e-15 -2.05901153e-15\n",
      "  -1.70717665e-16 -2.67095705e-15]\n",
      " [ 0.00000000e+00  0.00000000e+00  2.41563534e-16 -9.58709703e-17\n",
      "   3.71885738e-16  1.00000000e+00 -1.98178199e-15  1.36247512e-15\n",
      "   0.00000000e+00  1.71857657e-15]\n",
      " [ 0.00000000e+00  0.00000000e+00 -2.47573405e-16 -8.10718867e-18\n",
      "   1.64257275e-16  9.71597549e-17  1.00000000e+00 -6.10034686e-16\n",
      "  -7.03886176e-17 -5.90385535e-16]\n",
      " [ 0.00000000e+00  0.00000000e+00  3.11940839e-16 -8.63365623e-17\n",
      "   1.03479903e-16  2.43514430e-17 -1.43783626e-15  1.00000000e+00\n",
      "   0.00000000e+00  1.20871187e-15]\n",
      " [ 0.00000000e+00  0.00000000e+00 -1.73033736e-16  0.00000000e+00\n",
      "  -1.90251253e-16  1.15926916e-16  9.51316675e-16 -8.57263557e-16\n",
      "   1.00000000e+00 -8.50847356e-16]\n",
      " [ 0.00000000e+00  0.00000000e+00  4.53134987e-16  0.00000000e+00\n",
      "   3.54861959e-17 -2.27206429e-16 -1.90253132e-15  1.50904187e-15\n",
      "   0.00000000e+00  1.00000000e+00]]\n"
     ]
    }
   ],
   "source": [
    "print(np.linalg.solve(b.T,b.T))"
   ]
  },
  {
   "cell_type": "code",
   "execution_count": 431,
   "metadata": {},
   "outputs": [
    {
     "name": "stdout",
     "output_type": "stream",
     "text": [
      "[[-0.70710678 -0.70710678]\n",
      " [-0.70710678  0.70710678]]\n",
      "[7.34846923e+00 9.12304898e-17]\n",
      "[[-5.77350269e-01 -5.77350269e-01 -5.77350269e-01]\n",
      " [-8.16496581e-01  4.08248290e-01  4.08248290e-01]\n",
      " [-9.55821271e-17 -7.07106781e-01  7.07106781e-01]]\n"
     ]
    }
   ],
   "source": [
    "U, S, Vh = np.linalg.svd(a)\n",
    "print(U)\n",
    "print(S)\n",
    "print(Vh)"
   ]
  },
  {
   "cell_type": "code",
   "execution_count": 432,
   "metadata": {},
   "outputs": [
    {
     "name": "stdout",
     "output_type": "stream",
     "text": [
      "[[1. 0. 0. 0. 0.]\n",
      " [0. 1. 0. 0. 0.]\n",
      " [0. 0. 1. 0. 0.]\n",
      " [0. 0. 0. 1. 0.]\n",
      " [0. 0. 0. 0. 1.]]\n"
     ]
    }
   ],
   "source": [
    "print(np.linalg.cholesky(np.eye(5)).T)"
   ]
  },
  {
   "cell_type": "code",
   "execution_count": 433,
   "metadata": {},
   "outputs": [
    {
     "name": "stdout",
     "output_type": "stream",
     "text": [
      "[ 400.11992062 +0.j          100.05054323 +0.j\n",
      " -104.17818868+58.15124219j -104.17818868-58.15124219j\n",
      "   -1.35394684+76.3712445j    -1.35394684-76.3712445j\n",
      "   19.75160406+43.02447888j   19.75160406-43.02447888j\n",
      "  -44.84386153 +0.j            7.2344606  +0.j        ]\n",
      "[[ 0.36182749+0.j          0.51576936+0.j         -0.07411024-0.25634452j\n",
      "  -0.07411024+0.25634452j  0.04802583-0.37692225j  0.04802583+0.37692225j\n",
      "  -0.21803315-0.10399653j -0.21803315+0.10399653j -0.19576122+0.j\n",
      "  -0.19313492+0.j        ]\n",
      " [ 0.32919515+0.j          0.11993101+0.j          0.1687245 -0.01816349j\n",
      "   0.1687245 +0.01816349j -0.04673047+0.34756813j -0.04673047-0.34756813j\n",
      "   0.16164023-0.01969516j  0.16164023+0.01969516j  0.20672699+0.j\n",
      "   0.05839928+0.j        ]\n",
      " [ 0.30371174+0.j         -0.37016234+0.j          0.0383531 -0.02103675j\n",
      "   0.0383531 +0.02103675j -0.11516202-0.25278559j -0.11516202+0.25278559j\n",
      "   0.06701643-0.0566897j   0.06701643+0.0566897j  -0.12918233+0.j\n",
      "   0.06722361+0.j        ]\n",
      " [ 0.41172417+0.j         -0.15249348+0.j          0.51938962+0.j\n",
      "   0.51938962-0.j          0.229523  +0.18311654j  0.229523  -0.18311654j\n",
      "   0.12450877+0.0364015j   0.12450877-0.0364015j  -0.00686544+0.j\n",
      "   0.12749797+0.j        ]\n",
      " [ 0.34391817+0.j          0.19248755+0.j         -0.18140585+0.17803055j\n",
      "  -0.18140585-0.17803055j -0.20321003-0.09595794j -0.20321003+0.09595794j\n",
      "  -0.3386738 -0.06371195j -0.3386738 +0.06371195j  0.37422208+0.j\n",
      "  -0.11109576+0.j        ]\n",
      " [ 0.21811857+0.j          0.35915742+0.j          0.10914818+0.30428053j\n",
      "   0.10914818-0.30428053j  0.17716063-0.14008265j  0.17716063+0.14008265j\n",
      "  -0.20032947-0.02647375j -0.20032947+0.02647375j  0.24886886+0.j\n",
      "  -0.44473273+0.j        ]\n",
      " [ 0.3088102 +0.j         -0.51025619+0.j         -0.14266924-0.34694747j\n",
      "  -0.14266924+0.34694747j  0.00174851+0.24852379j  0.00174851-0.24852379j\n",
      "   0.39438868+0.17935018j  0.39438868-0.17935018j -0.04012444+0.j\n",
      "   0.47170156+0.j        ]\n",
      " [ 0.26879386+0.j         -0.05207267+0.j         -0.01089375+0.13003534j\n",
      "  -0.01089375-0.13003534j -0.50868178+0.j         -0.50868178-0.j\n",
      "  -0.42376683+0.24076524j -0.42376683-0.24076524j  0.38480138+0.j\n",
      "  -0.33848852+0.j        ]\n",
      " [ 0.3640082 +0.j         -0.28317023+0.j         -0.3584501 +0.0463244j\n",
      "  -0.3584501 -0.0463244j   0.13008469+0.14836581j  0.13008469-0.14836581j\n",
      "   0.51069836+0.j          0.51069836-0.j         -0.55864659+0.j\n",
      "   0.61256689+0.j        ]\n",
      " [ 0.18161097+0.j         -0.22365213+0.j         -0.34454042-0.22829767j\n",
      "  -0.34454042+0.22829767j  0.2925477 +0.1506861j   0.2925477 -0.1506861j\n",
      "   0.20896351+0.03567583j  0.20896351-0.03567583j -0.488324  +0.j\n",
      "   0.12676425+0.j        ]]\n"
     ]
    }
   ],
   "source": [
    "D,V = np.linalg.eig(b)\n",
    "print(D)\n",
    "print(V)"
   ]
  },
  {
   "cell_type": "code",
   "execution_count": 434,
   "metadata": {},
   "outputs": [
    {
     "name": "stdout",
     "output_type": "stream",
     "text": [
      "[[-0.70710678 -0.70710678]\n",
      " [-0.70710678  0.70710678]]\n",
      "[[-4.24264069e+00 -4.24264069e+00 -4.24264069e+00]\n",
      " [ 0.00000000e+00 -1.08176281e-16 -1.08176281e-16]]\n"
     ]
    }
   ],
   "source": [
    "Q,R = scipy.linalg.qr(a)\n",
    "print(Q)\n",
    "print(R)"
   ]
  },
  {
   "cell_type": "code",
   "execution_count": 435,
   "metadata": {},
   "outputs": [
    {
     "name": "stdout",
     "output_type": "stream",
     "text": [
      "[[ 9.40000000e+01  8.10000000e+01  8.10000000e+01  5.40000000e+01\n",
      "   5.90000000e+01  0.00000000e+00  0.00000000e+00  0.00000000e+00\n",
      "   0.00000000e+00  5.40000000e+01]\n",
      " [ 0.00000000e+00  8.40000000e+01  6.90000000e+01  0.00000000e+00\n",
      "   9.70000000e+01  8.10000000e+01  0.00000000e+00  6.90000000e+01\n",
      "   8.10000000e+01  9.40000000e+01]\n",
      " [ 0.00000000e+00  0.00000000e+00  8.70000000e+01  5.40000000e+01\n",
      "   7.80000000e+01  8.30000000e+01  5.40000000e+01  0.00000000e+00\n",
      "   0.00000000e+00  6.20000000e+01]\n",
      " [ 6.91489362e-01  5.93971631e-02 -6.90908535e-01  8.59686354e+01\n",
      "   7.73314686e+01  1.33534238e+02  3.73090609e+01 -4.09840426e+00\n",
      "   6.11888298e+01 -8.74296894e-02]\n",
      " [ 0.00000000e+00  6.42857143e-01 -3.85878489e-02  8.96649615e-01\n",
      "  -1.28686522e+02 -1.68602060e+02 -3.13694113e+01  2.31768974e+00\n",
      "  -1.06936369e+02 -5.79577310e+01]\n",
      " [ 6.80851064e-01  2.95845998e-01 -2.47842644e-01 -2.71988203e-01\n",
      "   2.21486296e-01  1.23270197e+02  3.04790219e+01  5.79585720e+01\n",
      "   1.06364054e+02 -3.63961740e+01]\n",
      " [ 6.27659574e-01  6.14235056e-02  9.10500297e-02  3.39538731e-01\n",
      "   5.93293879e-01  8.12508382e-01  7.32622461e+01  8.68644841e+00\n",
      "  -4.87282739e+01  1.86753209e+01]\n",
      " [ 0.00000000e+00  0.00000000e+00  9.42528736e-01  5.36282193e-01\n",
      "   8.93556908e-01  3.87876534e-01 -7.46584808e-01  7.91313139e+01\n",
      "   4.81033420e+01  2.14585690e+01]\n",
      " [ 6.59574468e-01  4.11600811e-01 -9.40528596e-01  1.76477419e-01\n",
      "  -3.25393829e-01 -2.73412721e-01  5.77791142e-01 -2.03400644e-01\n",
      "  -1.19142458e+01  3.07846916e+01]\n",
      " [ 6.59574468e-01 -6.36018237e-01  9.70801453e-01 -4.54122595e-01\n",
      "  -4.90916439e-01 -4.15247586e-01 -5.21739536e-01  9.06860881e-01\n",
      "  -1.61889940e-01 -3.73590788e+01]]\n",
      "[4 3 2 4 9 9 8 8 9 9]\n"
     ]
    }
   ],
   "source": [
    "LU,P=scipy.linalg.lu_factor(b)\n",
    "print(LU)\n",
    "print(P)"
   ]
  },
  {
   "cell_type": "code",
   "execution_count": 436,
   "metadata": {},
   "outputs": [
    {
     "name": "stdout",
     "output_type": "stream",
     "text": [
      "[[9.+0.j 0.+0.j 0.+0.j]\n",
      " [9.+0.j 0.+0.j 0.+0.j]]\n"
     ]
    }
   ],
   "source": [
    "print(np.fft.fft(a))"
   ]
  },
  {
   "cell_type": "code",
   "execution_count": 437,
   "metadata": {},
   "outputs": [
    {
     "name": "stdout",
     "output_type": "stream",
     "text": [
      "[[3.+0.j 0.+0.j 0.+0.j]\n",
      " [3.+0.j 0.+0.j 0.+0.j]]\n"
     ]
    }
   ],
   "source": [
    "print(np.fft.ifft(a))"
   ]
  },
  {
   "cell_type": "code",
   "execution_count": 438,
   "metadata": {},
   "outputs": [
    {
     "name": "stdout",
     "output_type": "stream",
     "text": [
      "[[3. 3. 3.]\n",
      " [3. 3. 3.]]\n"
     ]
    }
   ],
   "source": [
    "print(np.sort(a))"
   ]
  },
  {
   "cell_type": "code",
   "execution_count": 439,
   "metadata": {},
   "outputs": [
    {
     "name": "stdout",
     "output_type": "stream",
     "text": [
      "[0 1]\n",
      "[[3. 3. 3.]\n",
      " [3. 3. 3.]]\n"
     ]
    }
   ],
   "source": [
    "I = np.argsort(a[:,1])\n",
    "b=a[I,:]\n",
    "print(I)\n",
    "print(b)"
   ]
  },
  {
   "cell_type": "code",
   "execution_count": 440,
   "metadata": {},
   "outputs": [
    {
     "name": "stderr",
     "output_type": "stream",
     "text": [
      "/Users/aidancurtis/anaconda3/lib/python3.6/site-packages/ipykernel_launcher.py:1: FutureWarning: `rcond` parameter will change to the default of machine precision times ``max(M, N)`` where M and N are the input matrix dimensions.\n",
      "To use the future default and silence this warning we advise to pass `rcond=None`, to keep using the old, explicitly pass `rcond=-1`.\n",
      "  \"\"\"Entry point for launching an IPython kernel.\n"
     ]
    },
    {
     "data": {
      "text/plain": [
       "(array([[0.71000838, 1.04011371],\n",
       "        [0.63549003, 0.11166535]]),\n",
       " array([7023.10991755, 1782.15830892]),\n",
       " 2,\n",
       " array([138.40212898,  61.5130124 ]))"
      ]
     },
     "execution_count": 440,
     "metadata": {},
     "output_type": "execute_result"
    }
   ],
   "source": [
    "np.linalg.lstsq(c,d)"
   ]
  },
  {
   "cell_type": "code",
   "execution_count": 441,
   "metadata": {},
   "outputs": [
    {
     "ename": "AttributeError",
     "evalue": "module 'scipy' has no attribute 'signal'",
     "output_type": "error",
     "traceback": [
      "\u001b[0;31m---------------------------------------------------------------------------\u001b[0m",
      "\u001b[0;31mAttributeError\u001b[0m                            Traceback (most recent call last)",
      "\u001b[0;32m<ipython-input-441-c85b24e98750>\u001b[0m in \u001b[0;36m<module>\u001b[0;34m()\u001b[0m\n\u001b[0;32m----> 1\u001b[0;31m \u001b[0mprint\u001b[0m\u001b[0;34m(\u001b[0m\u001b[0mscipy\u001b[0m\u001b[0;34m.\u001b[0m\u001b[0msignal\u001b[0m\u001b[0;34m.\u001b[0m\u001b[0mresample\u001b[0m\u001b[0;34m(\u001b[0m\u001b[0mx\u001b[0m\u001b[0;34m,\u001b[0m \u001b[0mlen\u001b[0m\u001b[0;34m(\u001b[0m\u001b[0mx\u001b[0m\u001b[0;34m)\u001b[0m\u001b[0;34m/\u001b[0m\u001b[0mq\u001b[0m\u001b[0;34m)\u001b[0m\u001b[0;34m)\u001b[0m\u001b[0;34m\u001b[0m\u001b[0m\n\u001b[0m",
      "\u001b[0;31mAttributeError\u001b[0m: module 'scipy' has no attribute 'signal'"
     ]
    }
   ],
   "source": [
    "print(scipy.signal.resample(x, len(x)/q))"
   ]
  },
  {
   "cell_type": "code",
   "execution_count": 442,
   "metadata": {},
   "outputs": [
    {
     "name": "stdout",
     "output_type": "stream",
     "text": [
      "[3.]\n"
     ]
    }
   ],
   "source": [
    "print(unique(a))"
   ]
  },
  {
   "cell_type": "code",
   "execution_count": 443,
   "metadata": {},
   "outputs": [
    {
     "name": "stdout",
     "output_type": "stream",
     "text": [
      "[[3. 3. 3.]\n",
      " [3. 3. 3.]]\n"
     ]
    }
   ],
   "source": [
    "print(a.squeeze())"
   ]
  },
  {
   "cell_type": "markdown",
   "metadata": {},
   "source": [
    "# Task 3"
   ]
  },
  {
   "cell_type": "code",
   "execution_count": 445,
   "metadata": {},
   "outputs": [
    {
     "data": {
      "image/png": "[encoded data removed]",
      "text/plain": [
       "<matplotlib.figure.Figure at 0x11c21ae48>"
      ]
     },
     "metadata": {},
     "output_type": "display_data"
    }
   ],
   "source": [
    "import matplotlib.pyplot as plt\n",
    "%matplotlib inline\n",
    "plt.plot([1,2,3,4], [1,2,7,14])\n",
    "plt.axis([0, 6, 0, 20])\n",
    "plt.show()"
   ]
  },
  {
   "cell_type": "markdown",
   "metadata": {},
   "source": [
    "# Task 4"
   ]
  },
  {
   "cell_type": "code",
   "execution_count": 456,
   "metadata": {},
   "outputs": [
    {
     "data": {
      "image/png": "[encoded data removed]",
      "text/plain": [
       "<matplotlib.figure.Figure at 0x11c55fd68>"
      ]
     },
     "metadata": {},
     "output_type": "display_data"
    }
   ],
   "source": [
    "import matplotlib.pyplot as plt\n",
    "%matplotlib inline\n",
    "x = linspace(0,100, 5000)\n",
    "plt.plot(x,np.sin(x))\n",
    "plt.plot(x,np.cos(x))\n",
    "plt.show()"
   ]
  },
  {
   "cell_type": "markdown",
   "metadata": {},
   "source": [
    "# Task 5"
   ]
  },
  {
   "cell_type": "markdown",
   "metadata": {},
   "source": [
    "I am using a github account w/ github educate. My account username is `southpawac`"
   ]
  },
  {
   "cell_type": "markdown",
   "metadata": {},
   "source": [
    "# Task 6"
   ]
  },
  {
   "cell_type": "markdown",
   "metadata": {},
   "source": [
    "`https://github.com/southpawac/Comp576Homework0`"
   ]
  },
  {
   "cell_type": "code",
   "execution_count": null,
   "metadata": {},
   "outputs": [],
   "source": []
  }
 ],
 "metadata": {
  "kernelspec": {
   "display_name": "Python 3",
   "language": "python",
   "name": "python3"
  },
  "language_info": {
   "codemirror_mode": {
    "name": "ipython",
    "version": 3
   },
   "file_extension": ".py",
   "mimetype": "text/x-python",
   "name": "python",
   "nbconvert_exporter": "python",
   "pygments_lexer": "ipython3",
   "version": "3.6.4"
  }
 },
 "nbformat": 4,
 "nbformat_minor": 2
}
